{
 "cells": [
  {
   "cell_type": "code",
   "execution_count": 39,
   "id": "715393d5-2e66-4844-9bdf-83b65da48d48",
   "metadata": {},
   "outputs": [],
   "source": [
    "import pandas as pd\n",
    "\n",
    "# Carregar o CSV a partir do URL\n",
    "df = pd.read_csv(\"https://raw.githubusercontent.com/nicolasSilvaBR/Ireland-Recorded-Crime-Incidents-2023Q1-2024Q2/refs/heads/main/data/CJQ06.20241002T201044.csv\")"
   ]
  },
  {
   "cell_type": "code",
   "execution_count": 40,
   "id": "dd6ba4eb-1cc3-4b10-9161-dbfa7ea5cb8e",
   "metadata": {},
   "outputs": [
    {
     "name": "stdout",
     "output_type": "stream",
     "text": [
      "Colunas do DataFrame:\n",
      "Index(['STATISTIC Label', 'Quarter', 'Garda Division', 'Type of Offence',\n",
      "       'UNIT', 'VALUE'],\n",
      "      dtype='object')\n"
     ]
    }
   ],
   "source": [
    "# Exibir as colunas do DataFrame\n",
    "print(\"Colunas do DataFrame:\")\n",
    "print(df.columns)"
   ]
  },
  {
   "cell_type": "code",
   "execution_count": 41,
   "id": "36251bf5-0e7d-4bb5-b6a4-24c310c6e6d6",
   "metadata": {},
   "outputs": [
    {
     "name": "stdout",
     "output_type": "stream",
     "text": [
      "\n",
      "Índice do DataFrame:\n",
      "RangeIndex(start=0, stop=170968, step=1)\n"
     ]
    }
   ],
   "source": [
    "# Exibir o índice do DataFrame\n",
    "print(\"\\nÍndice do DataFrame:\")\n",
    "print(df.index)"
   ]
  },
  {
   "cell_type": "code",
   "execution_count": 42,
   "id": "dad9a787-16ed-4dd4-8e25-cf7f20691428",
   "metadata": {},
   "outputs": [
    {
     "data": {
      "text/html": [
       "<div>\n",
       "<style scoped>\n",
       "    .dataframe tbody tr th:only-of-type {\n",
       "        vertical-align: middle;\n",
       "    }\n",
       "\n",
       "    .dataframe tbody tr th {\n",
       "        vertical-align: top;\n",
       "    }\n",
       "\n",
       "    .dataframe thead th {\n",
       "        text-align: right;\n",
       "    }\n",
       "</style>\n",
       "<table border=\"1\" class=\"dataframe\">\n",
       "  <thead>\n",
       "    <tr style=\"text-align: right;\">\n",
       "      <th></th>\n",
       "      <th>STATISTIC Label</th>\n",
       "      <th>Quarter</th>\n",
       "      <th>Garda Division</th>\n",
       "      <th>Type of Offence</th>\n",
       "      <th>UNIT</th>\n",
       "      <th>VALUE</th>\n",
       "    </tr>\n",
       "  </thead>\n",
       "  <tbody>\n",
       "    <tr>\n",
       "      <th>0</th>\n",
       "      <td>Recorded crime incidents</td>\n",
       "      <td>2003Q1</td>\n",
       "      <td>Cavan/Monaghan Garda Division</td>\n",
       "      <td>Homicide offences</td>\n",
       "      <td>Number</td>\n",
       "      <td>1.0</td>\n",
       "    </tr>\n",
       "  </tbody>\n",
       "</table>\n",
       "</div>"
      ],
      "text/plain": [
       "            STATISTIC Label Quarter                 Garda Division  \\\n",
       "0  Recorded crime incidents  2003Q1  Cavan/Monaghan Garda Division   \n",
       "\n",
       "     Type of Offence    UNIT  VALUE  \n",
       "0  Homicide offences  Number    1.0  "
      ]
     },
     "execution_count": 42,
     "metadata": {},
     "output_type": "execute_result"
    }
   ],
   "source": [
    "# Exibir a primeira linha em formato de tabela\n",
    "df.head(1)"
   ]
  },
  {
   "cell_type": "code",
   "execution_count": 43,
   "id": "92ad208b-3567-455e-ba39-fb779168e82d",
   "metadata": {},
   "outputs": [
    {
     "data": {
      "text/html": [
       "<div>\n",
       "<style scoped>\n",
       "    .dataframe tbody tr th:only-of-type {\n",
       "        vertical-align: middle;\n",
       "    }\n",
       "\n",
       "    .dataframe tbody tr th {\n",
       "        vertical-align: top;\n",
       "    }\n",
       "\n",
       "    .dataframe thead th {\n",
       "        text-align: right;\n",
       "    }\n",
       "</style>\n",
       "<table border=\"1\" class=\"dataframe\">\n",
       "  <thead>\n",
       "    <tr style=\"text-align: right;\">\n",
       "      <th></th>\n",
       "      <th>STATISTIC Label</th>\n",
       "      <th>Quarter</th>\n",
       "      <th>Garda Division</th>\n",
       "      <th>Type of Offence</th>\n",
       "      <th>UNIT</th>\n",
       "      <th>VALUE</th>\n",
       "    </tr>\n",
       "  </thead>\n",
       "  <tbody>\n",
       "    <tr>\n",
       "      <th>170967</th>\n",
       "      <td>Recorded crime incidents</td>\n",
       "      <td>2024Q2</td>\n",
       "      <td>D.M.R. Western Garda Division</td>\n",
       "      <td>Offences while in custody, breach of court orders</td>\n",
       "      <td>Number</td>\n",
       "      <td>296.0</td>\n",
       "    </tr>\n",
       "  </tbody>\n",
       "</table>\n",
       "</div>"
      ],
      "text/plain": [
       "                 STATISTIC Label Quarter                 Garda Division  \\\n",
       "170967  Recorded crime incidents  2024Q2  D.M.R. Western Garda Division   \n",
       "\n",
       "                                          Type of Offence    UNIT  VALUE  \n",
       "170967  Offences while in custody, breach of court orders  Number  296.0  "
      ]
     },
     "execution_count": 43,
     "metadata": {},
     "output_type": "execute_result"
    }
   ],
   "source": [
    "# Exibir a última linha em formato de tabela\n",
    "df.tail(1)"
   ]
  },
  {
   "cell_type": "code",
   "execution_count": null,
   "id": "c515bd54-8b4c-4ffc-ab6a-311af204cd23",
   "metadata": {},
   "outputs": [],
   "source": [
    "df['Quarter']"
   ]
  },
  {
   "cell_type": "code",
   "execution_count": null,
   "id": "ee0f467d-8b5e-4b6d-81e0-ce1ff89b38ee",
   "metadata": {},
   "outputs": [
    {
     "data": {
      "text/plain": [
       "(170968, 6)"
      ]
     },
     "execution_count": 45,
     "metadata": {},
     "output_type": "execute_result"
    }
   ],
   "source": [
    "df.shape"
   ]
  },
  {
   "cell_type": "code",
   "execution_count": 46,
   "id": "16d073f1-5920-41b6-a987-fd4587f8eade",
   "metadata": {},
   "outputs": [
    {
     "name": "stdout",
     "output_type": "stream",
     "text": [
      "<class 'pandas.core.frame.DataFrame'>\n",
      "RangeIndex: 170968 entries, 0 to 170967\n",
      "Data columns (total 6 columns):\n",
      " #   Column           Non-Null Count   Dtype  \n",
      "---  ------           --------------   -----  \n",
      " 0   STATISTIC Label  170968 non-null  object \n",
      " 1   Quarter          170968 non-null  object \n",
      " 2   Garda Division   170968 non-null  object \n",
      " 3   Type of Offence  170968 non-null  object \n",
      " 4   UNIT             170968 non-null  object \n",
      " 5   VALUE            169194 non-null  float64\n",
      "dtypes: float64(1), object(5)\n",
      "memory usage: 7.8+ MB\n"
     ]
    }
   ],
   "source": [
    "df.info()"
   ]
  },
  {
   "cell_type": "code",
   "execution_count": 52,
   "id": "2df82b38-09b4-4718-b874-5de1414db3bd",
   "metadata": {},
   "outputs": [
    {
     "data": {
      "text/html": [
       "<div>\n",
       "<style scoped>\n",
       "    .dataframe tbody tr th:only-of-type {\n",
       "        vertical-align: middle;\n",
       "    }\n",
       "\n",
       "    .dataframe tbody tr th {\n",
       "        vertical-align: top;\n",
       "    }\n",
       "\n",
       "    .dataframe thead th {\n",
       "        text-align: right;\n",
       "    }\n",
       "</style>\n",
       "<table border=\"1\" class=\"dataframe\">\n",
       "  <thead>\n",
       "    <tr style=\"text-align: right;\">\n",
       "      <th></th>\n",
       "      <th>STATISTIC Label</th>\n",
       "      <th>Quarter</th>\n",
       "      <th>Garda Division</th>\n",
       "      <th>Type of Offence</th>\n",
       "      <th>UNIT</th>\n",
       "      <th>VALUE</th>\n",
       "    </tr>\n",
       "  </thead>\n",
       "  <tbody>\n",
       "    <tr>\n",
       "      <th>0</th>\n",
       "      <td>Recorded crime incidents</td>\n",
       "      <td>2003Q1</td>\n",
       "      <td>Cavan/Monaghan Garda Division</td>\n",
       "      <td>Homicide offences</td>\n",
       "      <td>Number</td>\n",
       "      <td>1.0</td>\n",
       "    </tr>\n",
       "    <tr>\n",
       "      <th>1</th>\n",
       "      <td>Recorded crime incidents</td>\n",
       "      <td>2003Q1</td>\n",
       "      <td>Cavan/Monaghan Garda Division</td>\n",
       "      <td>Murder</td>\n",
       "      <td>Number</td>\n",
       "      <td>0.0</td>\n",
       "    </tr>\n",
       "    <tr>\n",
       "      <th>2</th>\n",
       "      <td>Recorded crime incidents</td>\n",
       "      <td>2003Q1</td>\n",
       "      <td>Cavan/Monaghan Garda Division</td>\n",
       "      <td>Manslaughter</td>\n",
       "      <td>Number</td>\n",
       "      <td>0.0</td>\n",
       "    </tr>\n",
       "    <tr>\n",
       "      <th>3</th>\n",
       "      <td>Recorded crime incidents</td>\n",
       "      <td>2003Q1</td>\n",
       "      <td>Cavan/Monaghan Garda Division</td>\n",
       "      <td>Infanticide</td>\n",
       "      <td>Number</td>\n",
       "      <td>0.0</td>\n",
       "    </tr>\n",
       "    <tr>\n",
       "      <th>4</th>\n",
       "      <td>Recorded crime incidents</td>\n",
       "      <td>2003Q1</td>\n",
       "      <td>Cavan/Monaghan Garda Division</td>\n",
       "      <td>Dangerous driving leading to death</td>\n",
       "      <td>Number</td>\n",
       "      <td>1.0</td>\n",
       "    </tr>\n",
       "  </tbody>\n",
       "</table>\n",
       "</div>"
      ],
      "text/plain": [
       "            STATISTIC Label Quarter                 Garda Division  \\\n",
       "0  Recorded crime incidents  2003Q1  Cavan/Monaghan Garda Division   \n",
       "1  Recorded crime incidents  2003Q1  Cavan/Monaghan Garda Division   \n",
       "2  Recorded crime incidents  2003Q1  Cavan/Monaghan Garda Division   \n",
       "3  Recorded crime incidents  2003Q1  Cavan/Monaghan Garda Division   \n",
       "4  Recorded crime incidents  2003Q1  Cavan/Monaghan Garda Division   \n",
       "\n",
       "                      Type of Offence    UNIT  VALUE  \n",
       "0                   Homicide offences  Number    1.0  \n",
       "1                              Murder  Number    0.0  \n",
       "2                        Manslaughter  Number    0.0  \n",
       "3                         Infanticide  Number    0.0  \n",
       "4  Dangerous driving leading to death  Number    1.0  "
      ]
     },
     "execution_count": 52,
     "metadata": {},
     "output_type": "execute_result"
    }
   ],
   "source": [
    "df.head()"
   ]
  },
  {
   "cell_type": "code",
   "execution_count": 102,
   "id": "7fe2da4e-c72b-4a64-8a58-cad8c6d25347",
   "metadata": {},
   "outputs": [
    {
     "data": {
      "text/html": [
       "<div>\n",
       "<style scoped>\n",
       "    .dataframe tbody tr th:only-of-type {\n",
       "        vertical-align: middle;\n",
       "    }\n",
       "\n",
       "    .dataframe tbody tr th {\n",
       "        vertical-align: top;\n",
       "    }\n",
       "\n",
       "    .dataframe thead th {\n",
       "        text-align: right;\n",
       "    }\n",
       "</style>\n",
       "<table border=\"1\" class=\"dataframe\">\n",
       "  <thead>\n",
       "    <tr style=\"text-align: right;\">\n",
       "      <th></th>\n",
       "      <th>Quarter</th>\n",
       "      <th>Local</th>\n",
       "      <th>Type of Offence</th>\n",
       "      <th>Count</th>\n",
       "    </tr>\n",
       "  </thead>\n",
       "  <tbody>\n",
       "    <tr>\n",
       "      <th>0</th>\n",
       "      <td>2003Q1</td>\n",
       "      <td>Cavan/Monaghan Garda Division</td>\n",
       "      <td>Homicide offences</td>\n",
       "      <td>1.0</td>\n",
       "    </tr>\n",
       "    <tr>\n",
       "      <th>1</th>\n",
       "      <td>2003Q1</td>\n",
       "      <td>Cavan/Monaghan Garda Division</td>\n",
       "      <td>Murder</td>\n",
       "      <td>0.0</td>\n",
       "    </tr>\n",
       "    <tr>\n",
       "      <th>2</th>\n",
       "      <td>2003Q1</td>\n",
       "      <td>Cavan/Monaghan Garda Division</td>\n",
       "      <td>Manslaughter</td>\n",
       "      <td>0.0</td>\n",
       "    </tr>\n",
       "    <tr>\n",
       "      <th>3</th>\n",
       "      <td>2003Q1</td>\n",
       "      <td>Cavan/Monaghan Garda Division</td>\n",
       "      <td>Infanticide</td>\n",
       "      <td>0.0</td>\n",
       "    </tr>\n",
       "    <tr>\n",
       "      <th>4</th>\n",
       "      <td>2003Q1</td>\n",
       "      <td>Cavan/Monaghan Garda Division</td>\n",
       "      <td>Dangerous driving leading to death</td>\n",
       "      <td>1.0</td>\n",
       "    </tr>\n",
       "  </tbody>\n",
       "</table>\n",
       "</div>"
      ],
      "text/plain": [
       "  Quarter                          Local                     Type of Offence  \\\n",
       "0  2003Q1  Cavan/Monaghan Garda Division                   Homicide offences   \n",
       "1  2003Q1  Cavan/Monaghan Garda Division                              Murder   \n",
       "2  2003Q1  Cavan/Monaghan Garda Division                        Manslaughter   \n",
       "3  2003Q1  Cavan/Monaghan Garda Division                         Infanticide   \n",
       "4  2003Q1  Cavan/Monaghan Garda Division  Dangerous driving leading to death   \n",
       "\n",
       "   Count  \n",
       "0    1.0  \n",
       "1    0.0  \n",
       "2    0.0  \n",
       "3    0.0  \n",
       "4    1.0  "
      ]
     },
     "execution_count": 102,
     "metadata": {},
     "output_type": "execute_result"
    }
   ],
   "source": [
    "selected_columns = df[['Quarter','Garda Division','Type of Offence','VALUE']]\n",
    "renamed_df = selected_columns.rename(columns = {'Garda Division':'Local','VALUE':'Count'})\n",
    "renamed_df.head()"
   ]
  },
  {
   "cell_type": "code",
   "execution_count": 109,
   "id": "7f9df277-4097-4ce7-bed0-e60ef4178857",
   "metadata": {},
   "outputs": [
    {
     "ename": "TypeError",
     "evalue": "StringMethods.split() takes from 1 to 2 positional arguments but 3 positional arguments (and 1 keyword-only argument) were given",
     "output_type": "error",
     "traceback": [
      "\u001b[1;31m---------------------------------------------------------------------------\u001b[0m",
      "\u001b[1;31mTypeError\u001b[0m                                 Traceback (most recent call last)",
      "Cell \u001b[1;32mIn[109], line 2\u001b[0m\n\u001b[0;32m      1\u001b[0m \u001b[38;5;66;03m# Dividir a coluna 'Garda Division' com base na string ' Garda Division'\u001b[39;00m\n\u001b[1;32m----> 2\u001b[0m \u001b[43mrenamed_df\u001b[49m\u001b[43m[\u001b[49m\u001b[38;5;124;43m'\u001b[39;49m\u001b[38;5;124;43mLocal\u001b[39;49m\u001b[38;5;124;43m'\u001b[39;49m\u001b[43m]\u001b[49m\u001b[38;5;241;43m.\u001b[39;49m\u001b[43mstr\u001b[49m\u001b[38;5;241;43m.\u001b[39;49m\u001b[43msplit\u001b[49m\u001b[43m(\u001b[49m\u001b[38;5;124;43m'\u001b[39;49m\u001b[38;5;124;43mGarda Division\u001b[39;49m\u001b[38;5;124;43m'\u001b[39;49m\u001b[43m,\u001b[49m\u001b[38;5;241;43m1\u001b[39;49m\u001b[43m,\u001b[49m\u001b[43mexpand\u001b[49m\u001b[38;5;241;43m=\u001b[39;49m\u001b[38;5;28;43;01mTrue\u001b[39;49;00m\u001b[43m \u001b[49m\u001b[43m)\u001b[49m\n",
      "File \u001b[1;32m~\\AppData\\Local\\Programs\\Python\\Python312\\Lib\\site-packages\\pandas\\core\\strings\\accessor.py:137\u001b[0m, in \u001b[0;36mforbid_nonstring_types.<locals>._forbid_nonstring_types.<locals>.wrapper\u001b[1;34m(self, *args, **kwargs)\u001b[0m\n\u001b[0;32m    132\u001b[0m     msg \u001b[38;5;241m=\u001b[39m (\n\u001b[0;32m    133\u001b[0m         \u001b[38;5;124mf\u001b[39m\u001b[38;5;124m\"\u001b[39m\u001b[38;5;124mCannot use .str.\u001b[39m\u001b[38;5;132;01m{\u001b[39;00mfunc_name\u001b[38;5;132;01m}\u001b[39;00m\u001b[38;5;124m with values of \u001b[39m\u001b[38;5;124m\"\u001b[39m\n\u001b[0;32m    134\u001b[0m         \u001b[38;5;124mf\u001b[39m\u001b[38;5;124m\"\u001b[39m\u001b[38;5;124minferred dtype \u001b[39m\u001b[38;5;124m'\u001b[39m\u001b[38;5;132;01m{\u001b[39;00m\u001b[38;5;28mself\u001b[39m\u001b[38;5;241m.\u001b[39m_inferred_dtype\u001b[38;5;132;01m}\u001b[39;00m\u001b[38;5;124m'\u001b[39m\u001b[38;5;124m.\u001b[39m\u001b[38;5;124m\"\u001b[39m\n\u001b[0;32m    135\u001b[0m     )\n\u001b[0;32m    136\u001b[0m     \u001b[38;5;28;01mraise\u001b[39;00m \u001b[38;5;167;01mTypeError\u001b[39;00m(msg)\n\u001b[1;32m--> 137\u001b[0m \u001b[38;5;28;01mreturn\u001b[39;00m \u001b[43mfunc\u001b[49m\u001b[43m(\u001b[49m\u001b[38;5;28;43mself\u001b[39;49m\u001b[43m,\u001b[49m\u001b[43m \u001b[49m\u001b[38;5;241;43m*\u001b[39;49m\u001b[43margs\u001b[49m\u001b[43m,\u001b[49m\u001b[43m \u001b[49m\u001b[38;5;241;43m*\u001b[39;49m\u001b[38;5;241;43m*\u001b[39;49m\u001b[43mkwargs\u001b[49m\u001b[43m)\u001b[49m\n",
      "\u001b[1;31mTypeError\u001b[0m: StringMethods.split() takes from 1 to 2 positional arguments but 3 positional arguments (and 1 keyword-only argument) were given"
     ]
    }
   ],
   "source": [
    "# Dividir a coluna 'Garda Division' com base na string ' Garda Division'\n",
    "renamed_df['Local'].str.split('Garda Division',1,expand=True )\n"
   ]
  },
  {
   "cell_type": "code",
   "execution_count": null,
   "id": "cfe4fcb6-f510-42d4-bcf8-e0bb1dec2b3d",
   "metadata": {},
   "outputs": [],
   "source": []
  }
 ],
 "metadata": {
  "kernelspec": {
   "display_name": "Python 3 (ipykernel)",
   "language": "python",
   "name": "python3"
  },
  "language_info": {
   "codemirror_mode": {
    "name": "ipython",
    "version": 3
   },
   "file_extension": ".py",
   "mimetype": "text/x-python",
   "name": "python",
   "nbconvert_exporter": "python",
   "pygments_lexer": "ipython3",
   "version": "3.12.5"
  }
 },
 "nbformat": 4,
 "nbformat_minor": 5
}
