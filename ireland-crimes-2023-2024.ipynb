{
 "cells": [
  {
   "cell_type": "code",
   "execution_count": 148,
   "metadata": {},
   "outputs": [],
   "source": [
    "import pandas as pd # type: ignore\n",
    "df = pd.read_csv('https://raw.githubusercontent.com/nicolasSilvaBR/Ireland-Recorded-Crime-Incidents-2023Q1-2024Q2/refs/heads/main/data/CJQ06.20241002T201044.csv')\n",
    "df = pd.DataFrame(data=df)\n",
    "\n",
    "# This code is used to read the data from the csv file and display the top 10 crimes in Ireland in 2023-2024.\n",
    "# The data is from the Irish Crime Survey (ICS) and can be downloaded from https://www.icscr.ie/data-and-analysis/crime-data/icscr-crime-data-download/\n",
    "# Renaming the columns to match the required format.\n",
    "# Selecting only the required columns and displaying the top 10 crimes in Ireland in 2023-2024.\n",
    "df = df.rename(columns={'VALUE':'Count','Quarter':'Quarter','Garda Division':'Local','Type of Offence':'Crime'})\n",
    "df = df[['Quarter','Local','Crime','Count']].sort_values(by='Quarter',ascending=False)\n",
    "\n",
    "# Spliting the Quarter '2003Q1' into '2003' and 'Q1'\n",
    "df\n",
    "# Extracting the year from the Quarter column\n",
    "df['Year'] = df['Quarter'].str[:4]\n",
    "df['Q'] = df['Quarter'].str[4:]\n",
    "# Extracting the local from the local column\n",
    "df['Garda Division'] = df['Local'].str.extract(r'(.*) Garda Division', expand=False)\n",
    "df[['Quarter','Year','Q','Garda Division','Crime','Count']]"
   ]
  },
  {
   "cell_type": "markdown",
   "metadata": {},
   "source": [
    "# Count all crimes by Garda Division\n",
    "# Count all crimes by Year\n",
    "# Count all crimes by Quarter\n",
    "# Count by crime\n",
    "\n",
    "1. Distribuição de crimes ao longo do tempo:\n",
    "KPI: Crimes por trimestre e ano – Quantos crimes foram registrados por trimestre (Q) e por ano (Year)? Isso pode ser útil para identificar tendências sazonais ou mudanças de comportamento criminal ao longo do tempo.\n",
    "KPI: Crescimento percentual dos crimes – O aumento ou diminuição na taxa de crimes em diferentes períodos.\n",
    "2. Crime por Divisão Policial (Garda Division):\n",
    "KPI: Crimes por divisão – Quantos crimes foram registrados em cada divisão policial? Quais divisões têm maior ou menor incidência de crimes?\n",
    "Insight: Identificar divisões com alta ou baixa criminalidade – Ajuda a entender quais áreas estão mais afetadas e requerem mais recursos ou atenção.\n",
    "3. Tipos de crimes mais comuns:\n",
    "KPI: Top 5 tipos de crimes – Quais são os crimes mais comuns? Você pode usar a contagem total de crimes agrupados por tipo para identificar quais categorias de crime são mais recorrentes.\n",
    "Insight: Quais crimes estão aumentando ou diminuindo – Ao observar mudanças na frequência de crimes específicos ao longo do tempo, você pode ver se certas categorias estão se tornando mais ou menos prevalentes.\n",
    "4. Tendências por trimestre:\n",
    "KPI: Distribuição por trimestre – Qual a distribuição de crimes por trimestre? Isso pode revelar sazonalidade, como se há mais crimes no Q1 (primeiro trimestre) ou Q4 (último trimestre).\n",
    "Insight: Impacto da sazonalidade nos crimes – É possível que haja picos de crimes em períodos específicos do ano, como durante o verão ou eventos festivos.\n",
    "5. Média de crimes por tipo:\n",
    "KPI: Média de crimes por tipo – Calcular a média de ocorrências por tipo de crime pode ajudar a entender o impacto médio de cada categoria.\n",
    "6. Crimes sem contagem registrada (valores ausentes):\n",
    "KPI: Contagem de registros faltantes (NaN) – Identifique onde há ausência de dados na coluna \"Count\". Esses dados ausentes podem impactar a análise e podem ser necessários ajustes ou tratamentos específicos.\n",
    "Insight: Dados faltantes em crimes graves – Verificar se crimes mais graves, como \"Homicide\", têm valores ausentes na contagem pode ser crítico.\n",
    "7. Crimes mais graves ou de maior impacto:\n",
    "KPI: Impacto dos crimes de alto risco – Agrupar e analisar crimes com maior impacto na sociedade, como homicídios, assaltos e crimes violentos, para observar suas variações e impacto regional.\n",
    "8. Comparação entre divisões e trimestres:\n",
    "KPI: Comparação de divisões por trimestre – Comparar a taxa de crimes por trimestre e divisão pode revelar como diferentes áreas experimentam picos de criminalidade em momentos diferentes."
   ]
  },
  {
   "cell_type": "code",
   "execution_count": null,
   "metadata": {},
   "outputs": [],
   "source": []
  }
 ],
 "metadata": {
  "kernelspec": {
   "display_name": "pandas_kernel",
   "language": "python",
   "name": "pandas_kernel"
  },
  "language_info": {
   "codemirror_mode": {
    "name": "ipython",
    "version": 3
   },
   "file_extension": ".py",
   "mimetype": "text/x-python",
   "name": "python",
   "nbconvert_exporter": "python",
   "pygments_lexer": "ipython3",
   "version": "3.12.5"
  }
 },
 "nbformat": 4,
 "nbformat_minor": 2
}
