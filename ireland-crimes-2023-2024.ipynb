{
 "cells": [
  {
   "cell_type": "code",
   "execution_count": 10,
   "metadata": {},
   "outputs": [
    {
     "name": "stdout",
     "output_type": "stream",
     "text": [
      "<class 'pandas.core.frame.DataFrame'>\n",
      "RangeIndex: 170968 entries, 0 to 170967\n",
      "Data columns (total 6 columns):\n",
      " #   Column           Non-Null Count   Dtype  \n",
      "---  ------           --------------   -----  \n",
      " 0   STATISTIC Label  170968 non-null  object \n",
      " 1   Quarter          170968 non-null  object \n",
      " 2   Garda Division   170968 non-null  object \n",
      " 3   Type of Offence  170968 non-null  object \n",
      " 4   UNIT             170968 non-null  object \n",
      " 5   VALUE            169194 non-null  float64\n",
      "dtypes: float64(1), object(5)\n",
      "memory usage: 7.8+ MB\n"
     ]
    }
   ],
   "source": [
    "import pandas as pd\n",
    "\n",
    "df = pd.read_csv('https://raw.githubusercontent.com/nicolasSilvaBR/Ireland-Recorded-Crime-Incidents-2023Q1-2024Q2/refs/heads/main/data/CJQ06.20241002T201044.csv')\n",
    "\n",
    "df = pd.DataFrame(data=df)\n",
    "\n",
    "df.info()"
   ]
  },
  {
   "cell_type": "code",
   "execution_count": 14,
   "metadata": {},
   "outputs": [
    {
     "data": {
      "text/plain": [
       "(170968, 6)"
      ]
     },
     "execution_count": 14,
     "metadata": {},
     "output_type": "execute_result"
    }
   ],
   "source": [
    "df.shape"
   ]
  },
  {
   "cell_type": "code",
   "execution_count": 30,
   "metadata": {},
   "outputs": [
    {
     "data": {
      "text/html": [
       "<div>\n",
       "<style scoped>\n",
       "    .dataframe tbody tr th:only-of-type {\n",
       "        vertical-align: middle;\n",
       "    }\n",
       "\n",
       "    .dataframe tbody tr th {\n",
       "        vertical-align: top;\n",
       "    }\n",
       "\n",
       "    .dataframe thead th {\n",
       "        text-align: right;\n",
       "    }\n",
       "</style>\n",
       "<table border=\"1\" class=\"dataframe\">\n",
       "  <thead>\n",
       "    <tr style=\"text-align: right;\">\n",
       "      <th></th>\n",
       "      <th>STATISTIC Label</th>\n",
       "      <th>Quarter</th>\n",
       "      <th>Garda Division</th>\n",
       "      <th>Type of Offence</th>\n",
       "      <th>UNIT</th>\n",
       "      <th>VALUE</th>\n",
       "    </tr>\n",
       "  </thead>\n",
       "  <tbody>\n",
       "    <tr>\n",
       "      <th>0</th>\n",
       "      <td>Recorded crime incidents</td>\n",
       "      <td>2003Q1</td>\n",
       "      <td>Cavan/Monaghan Garda Division</td>\n",
       "      <td>Homicide offences</td>\n",
       "      <td>Number</td>\n",
       "      <td>1.0</td>\n",
       "    </tr>\n",
       "    <tr>\n",
       "      <th>1</th>\n",
       "      <td>Recorded crime incidents</td>\n",
       "      <td>2003Q1</td>\n",
       "      <td>Cavan/Monaghan Garda Division</td>\n",
       "      <td>Murder</td>\n",
       "      <td>Number</td>\n",
       "      <td>0.0</td>\n",
       "    </tr>\n",
       "    <tr>\n",
       "      <th>2</th>\n",
       "      <td>Recorded crime incidents</td>\n",
       "      <td>2003Q1</td>\n",
       "      <td>Cavan/Monaghan Garda Division</td>\n",
       "      <td>Manslaughter</td>\n",
       "      <td>Number</td>\n",
       "      <td>0.0</td>\n",
       "    </tr>\n",
       "    <tr>\n",
       "      <th>3</th>\n",
       "      <td>Recorded crime incidents</td>\n",
       "      <td>2003Q1</td>\n",
       "      <td>Cavan/Monaghan Garda Division</td>\n",
       "      <td>Infanticide</td>\n",
       "      <td>Number</td>\n",
       "      <td>0.0</td>\n",
       "    </tr>\n",
       "    <tr>\n",
       "      <th>4</th>\n",
       "      <td>Recorded crime incidents</td>\n",
       "      <td>2003Q1</td>\n",
       "      <td>Cavan/Monaghan Garda Division</td>\n",
       "      <td>Dangerous driving leading to death</td>\n",
       "      <td>Number</td>\n",
       "      <td>1.0</td>\n",
       "    </tr>\n",
       "  </tbody>\n",
       "</table>\n",
       "</div>"
      ],
      "text/plain": [
       "            STATISTIC Label Quarter                 Garda Division  \\\n",
       "0  Recorded crime incidents  2003Q1  Cavan/Monaghan Garda Division   \n",
       "1  Recorded crime incidents  2003Q1  Cavan/Monaghan Garda Division   \n",
       "2  Recorded crime incidents  2003Q1  Cavan/Monaghan Garda Division   \n",
       "3  Recorded crime incidents  2003Q1  Cavan/Monaghan Garda Division   \n",
       "4  Recorded crime incidents  2003Q1  Cavan/Monaghan Garda Division   \n",
       "\n",
       "                      Type of Offence    UNIT  VALUE  \n",
       "0                   Homicide offences  Number    1.0  \n",
       "1                              Murder  Number    0.0  \n",
       "2                        Manslaughter  Number    0.0  \n",
       "3                         Infanticide  Number    0.0  \n",
       "4  Dangerous driving leading to death  Number    1.0  "
      ]
     },
     "execution_count": 30,
     "metadata": {},
     "output_type": "execute_result"
    }
   ],
   "source": [
    "df.head()"
   ]
  },
  {
   "cell_type": "markdown",
   "metadata": {},
   "source": [
    "LOC and ILOC"
   ]
  },
  {
   "cell_type": "code",
   "execution_count": 23,
   "metadata": {},
   "outputs": [
    {
     "data": {
      "text/html": [
       "<div>\n",
       "<style scoped>\n",
       "    .dataframe tbody tr th:only-of-type {\n",
       "        vertical-align: middle;\n",
       "    }\n",
       "\n",
       "    .dataframe tbody tr th {\n",
       "        vertical-align: top;\n",
       "    }\n",
       "\n",
       "    .dataframe thead th {\n",
       "        text-align: right;\n",
       "    }\n",
       "</style>\n",
       "<table border=\"1\" class=\"dataframe\">\n",
       "  <thead>\n",
       "    <tr style=\"text-align: right;\">\n",
       "      <th></th>\n",
       "      <th>Quarter</th>\n",
       "    </tr>\n",
       "  </thead>\n",
       "  <tbody>\n",
       "    <tr>\n",
       "      <th>0</th>\n",
       "      <td>2003Q1</td>\n",
       "    </tr>\n",
       "    <tr>\n",
       "      <th>1</th>\n",
       "      <td>2003Q1</td>\n",
       "    </tr>\n",
       "    <tr>\n",
       "      <th>2</th>\n",
       "      <td>2003Q1</td>\n",
       "    </tr>\n",
       "    <tr>\n",
       "      <th>3</th>\n",
       "      <td>2003Q1</td>\n",
       "    </tr>\n",
       "    <tr>\n",
       "      <th>4</th>\n",
       "      <td>2003Q1</td>\n",
       "    </tr>\n",
       "    <tr>\n",
       "      <th>...</th>\n",
       "      <td>...</td>\n",
       "    </tr>\n",
       "    <tr>\n",
       "      <th>170963</th>\n",
       "      <td>2024Q2</td>\n",
       "    </tr>\n",
       "    <tr>\n",
       "      <th>170964</th>\n",
       "      <td>2024Q2</td>\n",
       "    </tr>\n",
       "    <tr>\n",
       "      <th>170965</th>\n",
       "      <td>2024Q2</td>\n",
       "    </tr>\n",
       "    <tr>\n",
       "      <th>170966</th>\n",
       "      <td>2024Q2</td>\n",
       "    </tr>\n",
       "    <tr>\n",
       "      <th>170967</th>\n",
       "      <td>2024Q2</td>\n",
       "    </tr>\n",
       "  </tbody>\n",
       "</table>\n",
       "<p>170968 rows × 1 columns</p>\n",
       "</div>"
      ],
      "text/plain": [
       "       Quarter\n",
       "0       2003Q1\n",
       "1       2003Q1\n",
       "2       2003Q1\n",
       "3       2003Q1\n",
       "4       2003Q1\n",
       "...        ...\n",
       "170963  2024Q2\n",
       "170964  2024Q2\n",
       "170965  2024Q2\n",
       "170966  2024Q2\n",
       "170967  2024Q2\n",
       "\n",
       "[170968 rows x 1 columns]"
      ]
     },
     "execution_count": 23,
     "metadata": {},
     "output_type": "execute_result"
    }
   ],
   "source": [
    "df[['Quarter']]"
   ]
  },
  {
   "cell_type": "code",
   "execution_count": 25,
   "metadata": {},
   "outputs": [
    {
     "data": {
      "text/plain": [
       "0         2003Q1\n",
       "1         2003Q1\n",
       "2         2003Q1\n",
       "3         2003Q1\n",
       "4         2003Q1\n",
       "           ...  \n",
       "170963    2024Q2\n",
       "170964    2024Q2\n",
       "170965    2024Q2\n",
       "170966    2024Q2\n",
       "170967    2024Q2\n",
       "Name: Quarter, Length: 170968, dtype: object"
      ]
     },
     "execution_count": 25,
     "metadata": {},
     "output_type": "execute_result"
    }
   ],
   "source": [
    "df.Quarter"
   ]
  },
  {
   "cell_type": "code",
   "execution_count": 28,
   "metadata": {},
   "outputs": [
    {
     "data": {
      "text/plain": [
       "STATISTIC Label         Recorded crime incidents\n",
       "Quarter                                   2003Q1\n",
       "Garda Division     Cavan/Monaghan Garda Division\n",
       "Type of Offence                Homicide offences\n",
       "UNIT                                      Number\n",
       "VALUE                                        1.0\n",
       "Name: 0, dtype: object"
      ]
     },
     "execution_count": 28,
     "metadata": {},
     "output_type": "execute_result"
    }
   ],
   "source": [
    "df.loc[0]"
   ]
  },
  {
   "cell_type": "code",
   "execution_count": 31,
   "metadata": {},
   "outputs": [
    {
     "data": {
      "text/plain": [
       "STATISTIC Label         Recorded crime incidents\n",
       "Quarter                                   2003Q1\n",
       "Garda Division     Cavan/Monaghan Garda Division\n",
       "Type of Offence                           Murder\n",
       "UNIT                                      Number\n",
       "VALUE                                        0.0\n",
       "Name: 1, dtype: object"
      ]
     },
     "execution_count": 31,
     "metadata": {},
     "output_type": "execute_result"
    }
   ],
   "source": [
    "df.loc[1]"
   ]
  },
  {
   "cell_type": "code",
   "execution_count": 33,
   "metadata": {},
   "outputs": [
    {
     "data": {
      "text/plain": [
       "STATISTIC Label         Recorded crime incidents\n",
       "Quarter                                   2003Q1\n",
       "Garda Division     Cavan/Monaghan Garda Division\n",
       "Type of Offence                           Murder\n",
       "UNIT                                      Number\n",
       "VALUE                                        0.0\n",
       "Name: 1, dtype: object"
      ]
     },
     "execution_count": 33,
     "metadata": {},
     "output_type": "execute_result"
    }
   ],
   "source": [
    "df.iloc[1]"
   ]
  },
  {
   "cell_type": "code",
   "execution_count": 51,
   "metadata": {},
   "outputs": [
    {
     "data": {
      "text/html": [
       "<div>\n",
       "<style scoped>\n",
       "    .dataframe tbody tr th:only-of-type {\n",
       "        vertical-align: middle;\n",
       "    }\n",
       "\n",
       "    .dataframe tbody tr th {\n",
       "        vertical-align: top;\n",
       "    }\n",
       "\n",
       "    .dataframe thead th {\n",
       "        text-align: right;\n",
       "    }\n",
       "</style>\n",
       "<table border=\"1\" class=\"dataframe\">\n",
       "  <thead>\n",
       "    <tr style=\"text-align: right;\">\n",
       "      <th></th>\n",
       "      <th>STATISTIC Label</th>\n",
       "      <th>Quarter</th>\n",
       "      <th>Garda Division</th>\n",
       "      <th>Type of Offence</th>\n",
       "      <th>UNIT</th>\n",
       "      <th>VALUE</th>\n",
       "    </tr>\n",
       "  </thead>\n",
       "  <tbody>\n",
       "    <tr>\n",
       "      <th>170963</th>\n",
       "      <td>Recorded crime incidents</td>\n",
       "      <td>2024Q2</td>\n",
       "      <td>D.M.R. Western Garda Division</td>\n",
       "      <td>Offences against government, justice procedure...</td>\n",
       "      <td>Number</td>\n",
       "      <td>299.0</td>\n",
       "    </tr>\n",
       "    <tr>\n",
       "      <th>170964</th>\n",
       "      <td>Recorded crime incidents</td>\n",
       "      <td>2024Q2</td>\n",
       "      <td>D.M.R. Western Garda Division</td>\n",
       "      <td>Offences against government and its agents</td>\n",
       "      <td>Number</td>\n",
       "      <td>1.0</td>\n",
       "    </tr>\n",
       "    <tr>\n",
       "      <th>170965</th>\n",
       "      <td>Recorded crime incidents</td>\n",
       "      <td>2024Q2</td>\n",
       "      <td>D.M.R. Western Garda Division</td>\n",
       "      <td>Organisation of crime and conspiracy to commit...</td>\n",
       "      <td>Number</td>\n",
       "      <td>2.0</td>\n",
       "    </tr>\n",
       "    <tr>\n",
       "      <th>170966</th>\n",
       "      <td>Recorded crime incidents</td>\n",
       "      <td>2024Q2</td>\n",
       "      <td>D.M.R. Western Garda Division</td>\n",
       "      <td>Perverting the course of justice</td>\n",
       "      <td>Number</td>\n",
       "      <td>NaN</td>\n",
       "    </tr>\n",
       "    <tr>\n",
       "      <th>170967</th>\n",
       "      <td>Recorded crime incidents</td>\n",
       "      <td>2024Q2</td>\n",
       "      <td>D.M.R. Western Garda Division</td>\n",
       "      <td>Offences while in custody, breach of court orders</td>\n",
       "      <td>Number</td>\n",
       "      <td>296.0</td>\n",
       "    </tr>\n",
       "  </tbody>\n",
       "</table>\n",
       "</div>"
      ],
      "text/plain": [
       "                 STATISTIC Label Quarter                 Garda Division  \\\n",
       "170963  Recorded crime incidents  2024Q2  D.M.R. Western Garda Division   \n",
       "170964  Recorded crime incidents  2024Q2  D.M.R. Western Garda Division   \n",
       "170965  Recorded crime incidents  2024Q2  D.M.R. Western Garda Division   \n",
       "170966  Recorded crime incidents  2024Q2  D.M.R. Western Garda Division   \n",
       "170967  Recorded crime incidents  2024Q2  D.M.R. Western Garda Division   \n",
       "\n",
       "                                          Type of Offence    UNIT  VALUE  \n",
       "170963  Offences against government, justice procedure...  Number  299.0  \n",
       "170964         Offences against government and its agents  Number    1.0  \n",
       "170965  Organisation of crime and conspiracy to commit...  Number    2.0  \n",
       "170966                   Perverting the course of justice  Number    NaN  \n",
       "170967  Offences while in custody, breach of court orders  Number  296.0  "
      ]
     },
     "execution_count": 51,
     "metadata": {},
     "output_type": "execute_result"
    }
   ],
   "source": [
    "df.tail()"
   ]
  },
  {
   "cell_type": "code",
   "execution_count": 63,
   "metadata": {},
   "outputs": [
    {
     "data": {
      "text/html": [
       "<div>\n",
       "<style scoped>\n",
       "    .dataframe tbody tr th:only-of-type {\n",
       "        vertical-align: middle;\n",
       "    }\n",
       "\n",
       "    .dataframe tbody tr th {\n",
       "        vertical-align: top;\n",
       "    }\n",
       "\n",
       "    .dataframe thead th {\n",
       "        text-align: right;\n",
       "    }\n",
       "</style>\n",
       "<table border=\"1\" class=\"dataframe\">\n",
       "  <thead>\n",
       "    <tr style=\"text-align: right;\">\n",
       "      <th></th>\n",
       "      <th>Quarter</th>\n",
       "      <th>Garda Division</th>\n",
       "      <th>Type of Offence</th>\n",
       "      <th>VALUE</th>\n",
       "    </tr>\n",
       "  </thead>\n",
       "  <tbody>\n",
       "    <tr>\n",
       "      <th>167561</th>\n",
       "      <td>2024Q1</td>\n",
       "      <td>Cork City Garda Division</td>\n",
       "      <td>Murder</td>\n",
       "      <td>1.0</td>\n",
       "    </tr>\n",
       "    <tr>\n",
       "      <th>167632</th>\n",
       "      <td>2024Q1</td>\n",
       "      <td>Cork North Garda Division</td>\n",
       "      <td>Murder</td>\n",
       "      <td>1.0</td>\n",
       "    </tr>\n",
       "    <tr>\n",
       "      <th>167703</th>\n",
       "      <td>2024Q1</td>\n",
       "      <td>Cork West Garda Division</td>\n",
       "      <td>Murder</td>\n",
       "      <td>1.0</td>\n",
       "    </tr>\n",
       "    <tr>\n",
       "      <th>167774</th>\n",
       "      <td>2024Q1</td>\n",
       "      <td>Kerry Garda Division</td>\n",
       "      <td>Murder</td>\n",
       "      <td>1.0</td>\n",
       "    </tr>\n",
       "    <tr>\n",
       "      <th>168200</th>\n",
       "      <td>2024Q1</td>\n",
       "      <td>Kildare Garda Division</td>\n",
       "      <td>Murder</td>\n",
       "      <td>1.0</td>\n",
       "    </tr>\n",
       "    <tr>\n",
       "      <th>168484</th>\n",
       "      <td>2024Q1</td>\n",
       "      <td>Waterford Garda Division</td>\n",
       "      <td>Murder</td>\n",
       "      <td>1.0</td>\n",
       "    </tr>\n",
       "    <tr>\n",
       "      <th>168555</th>\n",
       "      <td>2024Q1</td>\n",
       "      <td>D.M.R. South Central Garda Division</td>\n",
       "      <td>Murder</td>\n",
       "      <td>1.0</td>\n",
       "    </tr>\n",
       "    <tr>\n",
       "      <th>168768</th>\n",
       "      <td>2024Q1</td>\n",
       "      <td>D.M.R. Southern Garda Division</td>\n",
       "      <td>Murder</td>\n",
       "      <td>1.0</td>\n",
       "    </tr>\n",
       "    <tr>\n",
       "      <th>168910</th>\n",
       "      <td>2024Q1</td>\n",
       "      <td>D.M.R. Western Garda Division</td>\n",
       "      <td>Murder</td>\n",
       "      <td>1.0</td>\n",
       "    </tr>\n",
       "    <tr>\n",
       "      <th>169194</th>\n",
       "      <td>2024Q2</td>\n",
       "      <td>Louth Garda Division</td>\n",
       "      <td>Murder</td>\n",
       "      <td>1.0</td>\n",
       "    </tr>\n",
       "    <tr>\n",
       "      <th>169762</th>\n",
       "      <td>2024Q2</td>\n",
       "      <td>Kerry Garda Division</td>\n",
       "      <td>Murder</td>\n",
       "      <td>2.0</td>\n",
       "    </tr>\n",
       "    <tr>\n",
       "      <th>170188</th>\n",
       "      <td>2024Q2</td>\n",
       "      <td>Kildare Garda Division</td>\n",
       "      <td>Murder</td>\n",
       "      <td>2.0</td>\n",
       "    </tr>\n",
       "    <tr>\n",
       "      <th>170401</th>\n",
       "      <td>2024Q2</td>\n",
       "      <td>Kilkenny/Carlow Garda Division</td>\n",
       "      <td>Murder</td>\n",
       "      <td>1.0</td>\n",
       "    </tr>\n",
       "    <tr>\n",
       "      <th>170614</th>\n",
       "      <td>2024Q2</td>\n",
       "      <td>D.M.R. North Central Garda Division</td>\n",
       "      <td>Murder</td>\n",
       "      <td>1.0</td>\n",
       "    </tr>\n",
       "    <tr>\n",
       "      <th>170756</th>\n",
       "      <td>2024Q2</td>\n",
       "      <td>D.M.R. Southern Garda Division</td>\n",
       "      <td>Murder</td>\n",
       "      <td>1.0</td>\n",
       "    </tr>\n",
       "    <tr>\n",
       "      <th>170898</th>\n",
       "      <td>2024Q2</td>\n",
       "      <td>D.M.R. Western Garda Division</td>\n",
       "      <td>Murder</td>\n",
       "      <td>2.0</td>\n",
       "    </tr>\n",
       "  </tbody>\n",
       "</table>\n",
       "</div>"
      ],
      "text/plain": [
       "       Quarter                       Garda Division Type of Offence  VALUE\n",
       "167561  2024Q1             Cork City Garda Division          Murder    1.0\n",
       "167632  2024Q1            Cork North Garda Division          Murder    1.0\n",
       "167703  2024Q1             Cork West Garda Division          Murder    1.0\n",
       "167774  2024Q1                 Kerry Garda Division          Murder    1.0\n",
       "168200  2024Q1               Kildare Garda Division          Murder    1.0\n",
       "168484  2024Q1             Waterford Garda Division          Murder    1.0\n",
       "168555  2024Q1  D.M.R. South Central Garda Division          Murder    1.0\n",
       "168768  2024Q1       D.M.R. Southern Garda Division          Murder    1.0\n",
       "168910  2024Q1        D.M.R. Western Garda Division          Murder    1.0\n",
       "169194  2024Q2                 Louth Garda Division          Murder    1.0\n",
       "169762  2024Q2                 Kerry Garda Division          Murder    2.0\n",
       "170188  2024Q2               Kildare Garda Division          Murder    2.0\n",
       "170401  2024Q2       Kilkenny/Carlow Garda Division          Murder    1.0\n",
       "170614  2024Q2  D.M.R. North Central Garda Division          Murder    1.0\n",
       "170756  2024Q2       D.M.R. Southern Garda Division          Murder    1.0\n",
       "170898  2024Q2        D.M.R. Western Garda Division          Murder    2.0"
      ]
     },
     "execution_count": 63,
     "metadata": {},
     "output_type": "execute_result"
    }
   ],
   "source": [
    "df.loc[\n",
    "    ( df['Type of Offence'] == 'Murder' ) & (df['VALUE']>0) & ( (df['Quarter'] == '2024Q2' )  | (df['Quarter'] == '2024Q1' ) )\n",
    "    ,['Quarter','Garda Division','Type of Offence','VALUE' ]\n",
    "]"
   ]
  }
 ],
 "metadata": {
  "kernelspec": {
   "display_name": "pandas_kernel",
   "language": "python",
   "name": "pandas_kernel"
  },
  "language_info": {
   "codemirror_mode": {
    "name": "ipython",
    "version": 3
   },
   "file_extension": ".py",
   "mimetype": "text/x-python",
   "name": "python",
   "nbconvert_exporter": "python",
   "pygments_lexer": "ipython3",
   "version": "3.12.5"
  }
 },
 "nbformat": 4,
 "nbformat_minor": 2
}
