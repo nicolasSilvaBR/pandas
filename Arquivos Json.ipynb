{
 "cells": [
  {
   "cell_type": "markdown",
   "id": "a18dd55e",
   "metadata": {},
   "source": [
    "### Arquivos JSON"
   ]
  },
  {
   "cell_type": "markdown",
   "id": "521097a0",
   "metadata": {},
   "source": [
    "Jay son, JSON! Temos que falar direito porque os freelas em dólar estão na área!\n",
    "\n",
    "Vamos aprender um pouquinho sobre manipulação do mais que onipresente formato JSON. Arquivos de configuração, requisições e respostas de APIs  e tantas outras aplicações desse formatinho que praticamente acabou com o XML.\n",
    "\n",
    "Nossa sorte é que o Python e o Pandas simplesmente AMAM esse formato, pois se parecem muito com os dicionários. Temos de graça, sem necessidade de pacotes adicionais, um bom arcabouço para ler, escrever e manipular esses tipos de arquivos. Uma referência ótima é a própria [documentação do Python](https://docs.python.org/3/library/json.html) Mas nosso foco aqui é Pandas! Então vamos manipular arquivos JSON com nosso pacote de manipulação favorito!\n",
    "\n",
    "Então, chega de churumelas e vamos para algumas manipulações de arquivo json!"
   ]
  },
  {
   "cell_type": "code",
   "execution_count": 1,
   "id": "c669263a",
   "metadata": {},
   "outputs": [],
   "source": [
    "import pandas as pd\n",
    "import json"
   ]
  },
  {
   "cell_type": "markdown",
   "id": "a79f706a",
   "metadata": {},
   "source": [
    "## <a> Pandas </a> \n",
    "\n",
    "Uai, mas pandas não trabalha com dados tabulares??? Verdade, padawan! Mas a gente pode fazer algumas transformações pra deixar os dados tabulares, ou mesmo dizer para o pandas como a gente quer que ele interprete os dados estruturados.\n",
    "\n",
    "No método read_json existe um parâmetro \"orient\" que possui as alternativas de valor:\n",
    "- 'split' : dicionarios com formato {index -> [indice], columns -> [colunas], data -> [valores]}\n",
    "\n",
    "- 'records' : listas com formato [{coluna -> valor}, ... , {coluna -> valor}]\n",
    "\n",
    "- 'index' : dicionários com formato {indice -> {coluna -> valor}}\n",
    "\n",
    "- 'columns' : dicionarios com formato {coluna -> {indice -> valor}}\n",
    "\n",
    "- 'values' : um arranjo com valores\n"
   ]
  },
  {
   "cell_type": "code",
   "execution_count": 3,
   "id": "6b1e8f4e-5547-42c2-972c-877cee75414b",
   "metadata": {},
   "outputs": [
    {
     "data": {
      "text/plain": [
       "{'index': ['hamburguer',\n",
       "  'alface',\n",
       "  'queijo',\n",
       "  'molho especial',\n",
       "  'cebola',\n",
       "  'picles',\n",
       "  'pão com gergelim'],\n",
       " 'columns': ['qtd', 'calorias'],\n",
       " 'data': [[2, 120], [3, 1], [1, 100], [1, 100], [1, 10], [3, 8], [2, 80]]}"
      ]
     },
     "execution_count": 3,
     "metadata": {},
     "output_type": "execute_result"
    }
   ],
   "source": [
    "dicionario_com_valores = {\n",
    "    \"index\": [\"hamburguer\",\"alface\",\"queijo\",\"molho especial\", \"cebola\", \"picles\", \"pão com gergelim\"],\n",
    "    \"columns\": [\"qtd\",\"calorias\"],\n",
    "    \"data\": [[2,120],[3,1],[1,100],[1,100], [1, 10], [3, 8], [2, 80]]\n",
    "}\n",
    "\n",
    "dicionario_com_valores"
   ]
  },
  {
   "cell_type": "code",
   "execution_count": 4,
   "id": "6e23bf6b-86df-4eac-b8fd-da5a0ddf0b28",
   "metadata": {},
   "outputs": [
    {
     "data": {
      "text/plain": [
       "dict_keys(['index', 'columns', 'data'])"
      ]
     },
     "execution_count": 4,
     "metadata": {},
     "output_type": "execute_result"
    }
   ],
   "source": [
    "dicionario_com_valores.keys()"
   ]
  },
  {
   "cell_type": "code",
   "execution_count": 5,
   "id": "1618a9a9-a22d-4abb-b28c-43fecbce51bc",
   "metadata": {},
   "outputs": [
    {
     "data": {
      "text/plain": [
       "dict"
      ]
     },
     "execution_count": 5,
     "metadata": {},
     "output_type": "execute_result"
    }
   ],
   "source": [
    "type(dicionario_com_valores)"
   ]
  },
  {
   "cell_type": "code",
   "execution_count": 8,
   "id": "e408e8d6-e19d-47a1-a142-f4ec460615eb",
   "metadata": {},
   "outputs": [
    {
     "data": {
      "text/plain": [
       "'{\"index\": [\"hamburguer\", \"alface\", \"queijo\", \"molho especial\", \"cebola\", \"picles\", \"p\\\\u00e3o com gergelim\"], \"columns\": [\"qtd\", \"calorias\"], \"data\": [[2, 120], [3, 1], [1, 100], [1, 100], [1, 10], [3, 8], [2, 80]]}'"
      ]
     },
     "execution_count": 8,
     "metadata": {},
     "output_type": "execute_result"
    }
   ],
   "source": [
    "# Lê dict e transforma em string (str)\n",
    "str_valores = json.dumps(dicionario_com_valores)\n",
    "\n",
    "str_valores"
   ]
  },
  {
   "cell_type": "code",
   "execution_count": 9,
   "id": "500d60f2-2444-4817-90c2-b1126734c16e",
   "metadata": {},
   "outputs": [
    {
     "data": {
      "text/plain": [
       "str"
      ]
     },
     "execution_count": 9,
     "metadata": {},
     "output_type": "execute_result"
    }
   ],
   "source": [
    "type(str_valores)"
   ]
  },
  {
   "cell_type": "code",
   "execution_count": 10,
   "id": "00e35156-9a68-4360-bec4-72451e2e32ed",
   "metadata": {},
   "outputs": [
    {
     "data": {
      "text/plain": [
       "{'index': ['hamburguer',\n",
       "  'alface',\n",
       "  'queijo',\n",
       "  'molho especial',\n",
       "  'cebola',\n",
       "  'picles',\n",
       "  'pão com gergelim'],\n",
       " 'columns': ['qtd', 'calorias'],\n",
       " 'data': [[2, 120], [3, 1], [1, 100], [1, 100], [1, 10], [3, 8], [2, 80]]}"
      ]
     },
     "execution_count": 10,
     "metadata": {},
     "output_type": "execute_result"
    }
   ],
   "source": [
    "# Lê string e transforma em dict(json)\n",
    "json.loads(str_valores)"
   ]
  },
  {
   "cell_type": "code",
   "execution_count": 11,
   "id": "df891330",
   "metadata": {},
   "outputs": [
    {
     "data": {
      "text/plain": [
       "'{\"index\": [\"hamburguer\", \"alface\", \"queijo\", \"molho especial\", \"cebola\", \"picles\", \"p\\\\u00e3o com gergelim\"], \"columns\": [\"qtd\", \"calorias\"], \"data\": [[2, 120], [3, 1], [1, 100], [1, 100], [1, 10], [3, 8], [2, 80]]}'"
      ]
     },
     "execution_count": 11,
     "metadata": {},
     "output_type": "execute_result"
    }
   ],
   "source": [
    "# No split as chaves devem ter EXATAMENTE esses nomes: index, columns e data\n",
    "# 'split' : dicionarios com formato {index -> [indice], columns -> [colunas], data -> [valores]}\n",
    "str_json_split = json.dumps({\n",
    "    \"index\": [\"hamburguer\",\"alface\",\"queijo\",\"molho especial\", \"cebola\", \"picles\", \"pão com gergelim\"],\n",
    "    \"columns\": [\"qtd\",\"calorias\"],\n",
    "    \"data\": [[2,120],[3,1],[1,100],[1,100], [1, 10], [3, 8], [2, 80]]\n",
    "})\n",
    "\n",
    "str_json_split"
   ]
  },
  {
   "cell_type": "code",
   "execution_count": 12,
   "id": "5cd7b37d",
   "metadata": {},
   "outputs": [
    {
     "name": "stderr",
     "output_type": "stream",
     "text": [
      "C:\\Users\\leons\\AppData\\Local\\Temp\\ipykernel_25532\\4138164170.py:4: FutureWarning: Passing literal json to 'read_json' is deprecated and will be removed in a future version. To read from a literal string, wrap it in a 'StringIO' object.\n",
      "  pd.read_json(str_json_split, orient = 'split')\n"
     ]
    },
    {
     "data": {
      "text/html": [
       "<div>\n",
       "<style scoped>\n",
       "    .dataframe tbody tr th:only-of-type {\n",
       "        vertical-align: middle;\n",
       "    }\n",
       "\n",
       "    .dataframe tbody tr th {\n",
       "        vertical-align: top;\n",
       "    }\n",
       "\n",
       "    .dataframe thead th {\n",
       "        text-align: right;\n",
       "    }\n",
       "</style>\n",
       "<table border=\"1\" class=\"dataframe\">\n",
       "  <thead>\n",
       "    <tr style=\"text-align: right;\">\n",
       "      <th></th>\n",
       "      <th>qtd</th>\n",
       "      <th>calorias</th>\n",
       "    </tr>\n",
       "  </thead>\n",
       "  <tbody>\n",
       "    <tr>\n",
       "      <th>hamburguer</th>\n",
       "      <td>2</td>\n",
       "      <td>120</td>\n",
       "    </tr>\n",
       "    <tr>\n",
       "      <th>alface</th>\n",
       "      <td>3</td>\n",
       "      <td>1</td>\n",
       "    </tr>\n",
       "    <tr>\n",
       "      <th>queijo</th>\n",
       "      <td>1</td>\n",
       "      <td>100</td>\n",
       "    </tr>\n",
       "    <tr>\n",
       "      <th>molho especial</th>\n",
       "      <td>1</td>\n",
       "      <td>100</td>\n",
       "    </tr>\n",
       "    <tr>\n",
       "      <th>cebola</th>\n",
       "      <td>1</td>\n",
       "      <td>10</td>\n",
       "    </tr>\n",
       "    <tr>\n",
       "      <th>picles</th>\n",
       "      <td>3</td>\n",
       "      <td>8</td>\n",
       "    </tr>\n",
       "    <tr>\n",
       "      <th>pão com gergelim</th>\n",
       "      <td>2</td>\n",
       "      <td>80</td>\n",
       "    </tr>\n",
       "  </tbody>\n",
       "</table>\n",
       "</div>"
      ],
      "text/plain": [
       "                  qtd  calorias\n",
       "hamburguer          2       120\n",
       "alface              3         1\n",
       "queijo              1       100\n",
       "molho especial      1       100\n",
       "cebola              1        10\n",
       "picles              3         8\n",
       "pão com gergelim    2        80"
      ]
     },
     "execution_count": 12,
     "metadata": {},
     "output_type": "execute_result"
    }
   ],
   "source": [
    "# orient é o parâmetro de como o pandas deve tratar os dados que estamos passando\n",
    "# para ele!\n",
    "# Com o orient split o pandas espera três chaves! index, columns, data\n",
    "pd.read_json(str_json_split, orient = 'split')"
   ]
  },
  {
   "cell_type": "code",
   "execution_count": 13,
   "id": "327a9ba1",
   "metadata": {},
   "outputs": [
    {
     "data": {
      "text/plain": [
       "'[{\"ingrediente\": \"hamburguer\", \"qtd\": 2, \"calorias\": 120}, {\"ingrediente\": \"alface\", \"qtd\": 3, \"calorias\": 1}, {\"ingrediente\": \"queijo\", \"qtd\": 1, \"calorias\": 100}, {\"ingrediente\": \"molho especial\", \"qtd\": 1, \"calorias\": 100}]'"
      ]
     },
     "execution_count": 13,
     "metadata": {},
     "output_type": "execute_result"
    }
   ],
   "source": [
    "# 'records' : listas com formato [{coluna -> valor}, ... , {coluna -> valor}]\n",
    "\n",
    "json_record = json.dumps([\n",
    "    {\"ingrediente\":\"hamburguer\",\"qtd\":2,\"calorias\":120},\n",
    "    {\"ingrediente\":\"alface\",\"qtd\":3,\"calorias\":1},\n",
    "    {\"ingrediente\":\"queijo\",\"qtd\":1,\"calorias\":100},\n",
    "    {\"ingrediente\":\"molho especial\",\"qtd\":1,\"calorias\":100}\n",
    "])\n",
    "\n",
    "json_record"
   ]
  },
  {
   "cell_type": "code",
   "execution_count": 16,
   "id": "e7b5a17a",
   "metadata": {},
   "outputs": [
    {
     "name": "stderr",
     "output_type": "stream",
     "text": [
      "C:\\Users\\leons\\AppData\\Local\\Temp\\ipykernel_25532\\1515266378.py:1: FutureWarning: Passing literal json to 'read_json' is deprecated and will be removed in a future version. To read from a literal string, wrap it in a 'StringIO' object.\n",
      "  pd.read_json(json_record, orient = 'records')\n"
     ]
    },
    {
     "data": {
      "text/html": [
       "<div>\n",
       "<style scoped>\n",
       "    .dataframe tbody tr th:only-of-type {\n",
       "        vertical-align: middle;\n",
       "    }\n",
       "\n",
       "    .dataframe tbody tr th {\n",
       "        vertical-align: top;\n",
       "    }\n",
       "\n",
       "    .dataframe thead th {\n",
       "        text-align: right;\n",
       "    }\n",
       "</style>\n",
       "<table border=\"1\" class=\"dataframe\">\n",
       "  <thead>\n",
       "    <tr style=\"text-align: right;\">\n",
       "      <th></th>\n",
       "      <th>ingrediente</th>\n",
       "      <th>qtd</th>\n",
       "      <th>calorias</th>\n",
       "    </tr>\n",
       "  </thead>\n",
       "  <tbody>\n",
       "    <tr>\n",
       "      <th>0</th>\n",
       "      <td>hamburguer</td>\n",
       "      <td>2</td>\n",
       "      <td>120</td>\n",
       "    </tr>\n",
       "    <tr>\n",
       "      <th>1</th>\n",
       "      <td>alface</td>\n",
       "      <td>3</td>\n",
       "      <td>1</td>\n",
       "    </tr>\n",
       "    <tr>\n",
       "      <th>2</th>\n",
       "      <td>queijo</td>\n",
       "      <td>1</td>\n",
       "      <td>100</td>\n",
       "    </tr>\n",
       "    <tr>\n",
       "      <th>3</th>\n",
       "      <td>molho especial</td>\n",
       "      <td>1</td>\n",
       "      <td>100</td>\n",
       "    </tr>\n",
       "  </tbody>\n",
       "</table>\n",
       "</div>"
      ],
      "text/plain": [
       "      ingrediente  qtd  calorias\n",
       "0      hamburguer    2       120\n",
       "1          alface    3         1\n",
       "2          queijo    1       100\n",
       "3  molho especial    1       100"
      ]
     },
     "execution_count": 16,
     "metadata": {},
     "output_type": "execute_result"
    }
   ],
   "source": [
    "pd.read_json(json_record, orient = 'records')"
   ]
  },
  {
   "cell_type": "code",
   "execution_count": 17,
   "id": "2453168c",
   "metadata": {},
   "outputs": [
    {
     "data": {
      "text/plain": [
       "'{\"hamburguer\": {\"qtd\": 5, \"calorias\": 20}, \"alface\": {\"qtd\": 8, \"calorias\": 30}, \"queijo\": {\"qtd\": 2, \"calorias\": 120}, \"molho especial\": {\"qtd\": 4, \"calorias\": 16}}'"
      ]
     },
     "execution_count": 17,
     "metadata": {},
     "output_type": "execute_result"
    }
   ],
   "source": [
    "# 'index' : dicionários com formato {indice -> {coluna -> valor}}\n",
    "# chave é o índice e valor são as colunas com os dados!\n",
    "\n",
    "json_index = json.dumps({\n",
    "    \"hamburguer\": {\n",
    "        \"qtd\": 5, \n",
    "        \"calorias\": 20\n",
    "        },\n",
    "    \"alface\": {\n",
    "        \"qtd\": 8, \n",
    "        \"calorias\": 30\n",
    "        },\n",
    "    \"queijo\": {\n",
    "        \"qtd\": 2, \n",
    "        \"calorias\": 120\n",
    "        },\n",
    "    \"molho especial\": {\n",
    "        \"qtd\": 4, \n",
    "        \"calorias\": 16\n",
    "        }\n",
    "\n",
    "})\n",
    "\n",
    "json_index"
   ]
  },
  {
   "cell_type": "code",
   "execution_count": 18,
   "id": "55ad711d",
   "metadata": {},
   "outputs": [
    {
     "name": "stderr",
     "output_type": "stream",
     "text": [
      "C:\\Users\\leons\\AppData\\Local\\Temp\\ipykernel_25532\\519281642.py:1: FutureWarning: Passing literal json to 'read_json' is deprecated and will be removed in a future version. To read from a literal string, wrap it in a 'StringIO' object.\n",
      "  pd.read_json(json_index, orient = 'index')\n"
     ]
    },
    {
     "data": {
      "text/html": [
       "<div>\n",
       "<style scoped>\n",
       "    .dataframe tbody tr th:only-of-type {\n",
       "        vertical-align: middle;\n",
       "    }\n",
       "\n",
       "    .dataframe tbody tr th {\n",
       "        vertical-align: top;\n",
       "    }\n",
       "\n",
       "    .dataframe thead th {\n",
       "        text-align: right;\n",
       "    }\n",
       "</style>\n",
       "<table border=\"1\" class=\"dataframe\">\n",
       "  <thead>\n",
       "    <tr style=\"text-align: right;\">\n",
       "      <th></th>\n",
       "      <th>qtd</th>\n",
       "      <th>calorias</th>\n",
       "    </tr>\n",
       "  </thead>\n",
       "  <tbody>\n",
       "    <tr>\n",
       "      <th>hamburguer</th>\n",
       "      <td>5</td>\n",
       "      <td>20</td>\n",
       "    </tr>\n",
       "    <tr>\n",
       "      <th>alface</th>\n",
       "      <td>8</td>\n",
       "      <td>30</td>\n",
       "    </tr>\n",
       "    <tr>\n",
       "      <th>queijo</th>\n",
       "      <td>2</td>\n",
       "      <td>120</td>\n",
       "    </tr>\n",
       "    <tr>\n",
       "      <th>molho especial</th>\n",
       "      <td>4</td>\n",
       "      <td>16</td>\n",
       "    </tr>\n",
       "  </tbody>\n",
       "</table>\n",
       "</div>"
      ],
      "text/plain": [
       "                qtd  calorias\n",
       "hamburguer        5        20\n",
       "alface            8        30\n",
       "queijo            2       120\n",
       "molho especial    4        16"
      ]
     },
     "execution_count": 18,
     "metadata": {},
     "output_type": "execute_result"
    }
   ],
   "source": [
    "pd.read_json(json_index, orient = 'index')"
   ]
  },
  {
   "cell_type": "code",
   "execution_count": 19,
   "id": "e4cf94cd",
   "metadata": {},
   "outputs": [
    {
     "data": {
      "text/plain": [
       "'{\"qtd\": {\"hamburguer\": 2, \"alface\": 1, \"queijo\": 1, \"molho especial\": 1}, \"calorias\": {\"hamburguer\": 120, \"alface\": 1, \"queijo\": 100, \"molho especial\": 100}}'"
      ]
     },
     "execution_count": 19,
     "metadata": {},
     "output_type": "execute_result"
    }
   ],
   "source": [
    "# 'columns' : dicionarios com formato {coluna -> {indice -> valor}}\n",
    "# Aqui a chave é a COLUNA e os valores são pares indice_pandas:valor_coluna\n",
    "\n",
    "json_columns = json.dumps({\n",
    "    \"qtd\": {\n",
    "        \"hamburguer\": 2,\n",
    "        \"alface\": 1,\n",
    "        \"queijo\": 1,\n",
    "        \"molho especial\": 1\n",
    "    },\n",
    "    \"calorias\": {\n",
    "        \"hamburguer\": 120,\n",
    "        \"alface\": 1,\n",
    "        \"queijo\": 100,\n",
    "        \"molho especial\": 100\n",
    "    }\n",
    "})\n",
    "\n",
    "json_columns"
   ]
  },
  {
   "cell_type": "code",
   "execution_count": 20,
   "id": "6fbe33c3",
   "metadata": {},
   "outputs": [
    {
     "name": "stderr",
     "output_type": "stream",
     "text": [
      "C:\\Users\\leons\\AppData\\Local\\Temp\\ipykernel_25532\\3260210209.py:1: FutureWarning: Passing literal json to 'read_json' is deprecated and will be removed in a future version. To read from a literal string, wrap it in a 'StringIO' object.\n",
      "  pd.read_json(json_columns, orient = 'columns')\n"
     ]
    },
    {
     "data": {
      "text/html": [
       "<div>\n",
       "<style scoped>\n",
       "    .dataframe tbody tr th:only-of-type {\n",
       "        vertical-align: middle;\n",
       "    }\n",
       "\n",
       "    .dataframe tbody tr th {\n",
       "        vertical-align: top;\n",
       "    }\n",
       "\n",
       "    .dataframe thead th {\n",
       "        text-align: right;\n",
       "    }\n",
       "</style>\n",
       "<table border=\"1\" class=\"dataframe\">\n",
       "  <thead>\n",
       "    <tr style=\"text-align: right;\">\n",
       "      <th></th>\n",
       "      <th>qtd</th>\n",
       "      <th>calorias</th>\n",
       "    </tr>\n",
       "  </thead>\n",
       "  <tbody>\n",
       "    <tr>\n",
       "      <th>hamburguer</th>\n",
       "      <td>2</td>\n",
       "      <td>120</td>\n",
       "    </tr>\n",
       "    <tr>\n",
       "      <th>alface</th>\n",
       "      <td>1</td>\n",
       "      <td>1</td>\n",
       "    </tr>\n",
       "    <tr>\n",
       "      <th>queijo</th>\n",
       "      <td>1</td>\n",
       "      <td>100</td>\n",
       "    </tr>\n",
       "    <tr>\n",
       "      <th>molho especial</th>\n",
       "      <td>1</td>\n",
       "      <td>100</td>\n",
       "    </tr>\n",
       "  </tbody>\n",
       "</table>\n",
       "</div>"
      ],
      "text/plain": [
       "                qtd  calorias\n",
       "hamburguer        2       120\n",
       "alface            1         1\n",
       "queijo            1       100\n",
       "molho especial    1       100"
      ]
     },
     "execution_count": 20,
     "metadata": {},
     "output_type": "execute_result"
    }
   ],
   "source": [
    "pd.read_json(json_columns, orient = 'columns')"
   ]
  },
  {
   "cell_type": "code",
   "execution_count": 21,
   "id": "e9040ef5",
   "metadata": {},
   "outputs": [
    {
     "data": {
      "text/plain": [
       "'[[\"hamburguer\", 2, 120], [\"alface\", 1, 1], [\"queijo\", 1, 100], [\"molho especial\", 1, 100]]'"
      ]
     },
     "execution_count": 21,
     "metadata": {},
     "output_type": "execute_result"
    }
   ],
   "source": [
    "# 'values' : um arranjo com valores\n",
    "\n",
    "json_values = json.dumps([\n",
    "    [\"hamburguer\", 2, 120],\n",
    "    [\"alface\", 1, 1],\n",
    "    [\"queijo\", 1,100],\n",
    "    [\"molho especial\", 1, 100]\n",
    "\n",
    "])\n",
    "\n",
    "json_values"
   ]
  },
  {
   "cell_type": "code",
   "execution_count": 22,
   "id": "4453a192",
   "metadata": {},
   "outputs": [
    {
     "name": "stderr",
     "output_type": "stream",
     "text": [
      "C:\\Users\\leons\\AppData\\Local\\Temp\\ipykernel_25532\\3973297428.py:1: FutureWarning: Passing literal json to 'read_json' is deprecated and will be removed in a future version. To read from a literal string, wrap it in a 'StringIO' object.\n",
      "  pd.read_json(json_values, orient = 'values')\n"
     ]
    },
    {
     "data": {
      "text/html": [
       "<div>\n",
       "<style scoped>\n",
       "    .dataframe tbody tr th:only-of-type {\n",
       "        vertical-align: middle;\n",
       "    }\n",
       "\n",
       "    .dataframe tbody tr th {\n",
       "        vertical-align: top;\n",
       "    }\n",
       "\n",
       "    .dataframe thead th {\n",
       "        text-align: right;\n",
       "    }\n",
       "</style>\n",
       "<table border=\"1\" class=\"dataframe\">\n",
       "  <thead>\n",
       "    <tr style=\"text-align: right;\">\n",
       "      <th></th>\n",
       "      <th>0</th>\n",
       "      <th>1</th>\n",
       "      <th>2</th>\n",
       "    </tr>\n",
       "  </thead>\n",
       "  <tbody>\n",
       "    <tr>\n",
       "      <th>0</th>\n",
       "      <td>hamburguer</td>\n",
       "      <td>2</td>\n",
       "      <td>120</td>\n",
       "    </tr>\n",
       "    <tr>\n",
       "      <th>1</th>\n",
       "      <td>alface</td>\n",
       "      <td>1</td>\n",
       "      <td>1</td>\n",
       "    </tr>\n",
       "    <tr>\n",
       "      <th>2</th>\n",
       "      <td>queijo</td>\n",
       "      <td>1</td>\n",
       "      <td>100</td>\n",
       "    </tr>\n",
       "    <tr>\n",
       "      <th>3</th>\n",
       "      <td>molho especial</td>\n",
       "      <td>1</td>\n",
       "      <td>100</td>\n",
       "    </tr>\n",
       "  </tbody>\n",
       "</table>\n",
       "</div>"
      ],
      "text/plain": [
       "                0  1    2\n",
       "0      hamburguer  2  120\n",
       "1          alface  1    1\n",
       "2          queijo  1  100\n",
       "3  molho especial  1  100"
      ]
     },
     "execution_count": 22,
     "metadata": {},
     "output_type": "execute_result"
    }
   ],
   "source": [
    "pd.read_json(json_values, orient = 'values')"
   ]
  },
  {
   "cell_type": "markdown",
   "id": "6ed3d3dc",
   "metadata": {},
   "source": [
    "#### <a> E para estruturas complexas? </a>\n",
    "\n",
    "E o nosso arquivo??? Ele não parece ser de nenhum tipo porque tem uma estrutura muito \"aninhada\"\n",
    "\n",
    "Para ele precisamos de algo mais \"elaborado\"\n"
   ]
  },
  {
   "cell_type": "markdown",
   "id": "ba6d107d",
   "metadata": {},
   "source": [
    "### <a> \"Achatando\" um json  </a>\n",
    "\n",
    "Uma forma legal de trabalhar com dados mais aninhados é utilizar o json_normalize do pandas.\n",
    "\n",
    "Uma forma legal de entender como normalizar (achatar) o json é pensar ANTES como queremos o resultado.\n",
    "\n",
    "No caso das bandas, faz sentido ter uma linha para cada música, com as colunas para os nomes das bandas e dos álbuns. Sabendo que o nível mais \"profundo\" que queremos ir, fica mais fácil. Bora nessa!"
   ]
  },
  {
   "cell_type": "code",
   "execution_count": 23,
   "id": "26c0c648",
   "metadata": {},
   "outputs": [
    {
     "data": {
      "text/plain": [
       "[{'name': 'Radiohead',\n",
       "  'albums': [{'title': 'The King of Limbs',\n",
       "    'songs': [{'title': 'Bloom', 'length': '5:15'},\n",
       "     {'title': 'Morning Mr Magpie', 'length': '4:41'},\n",
       "     {'title': 'Little by Little', 'length': '4:27'},\n",
       "     {'title': 'Feral', 'length': '3:13'},\n",
       "     {'title': 'Lotus Flower', 'length': '5:01'},\n",
       "     {'title': 'Codex', 'length': '4:47'},\n",
       "     {'title': 'Give Up the Ghost', 'length': '4:50'},\n",
       "     {'title': 'Separator', 'length': '5:20'}],\n",
       "    'description': '\\n\\tThe King of Limbs is the eighth studio album by English rock band Radiohead, produced by Nigel Godrich. It was self-released on 18 February 2011 as a download in MP3 and WAV formats, followed by physical CD and 12\" vinyl releases on 28 March, a wider digital release via AWAL, and a special \"newspaper\" edition on 9 May 2011. The physical editions were released through the band\\'s Ticker Tape imprint on XL in the United Kingdom, TBD in the United States, and Hostess Entertainment in Japan.\\n      '},\n",
       "   {'title': 'OK Computer',\n",
       "    'songs': [{'title': 'Airbag', 'length': '4:44'},\n",
       "     {'title': 'Paranoid Android', 'length': '6:23'},\n",
       "     {'title': 'Subterranean Homesick Alien', 'length': '4:27'},\n",
       "     {'title': 'Exit Music (For a Film)', 'length': '4:24'},\n",
       "     {'title': 'Let Down', 'length': '4:59'},\n",
       "     {'title': 'Karma Police', 'length': '4:21'},\n",
       "     {'title': 'Fitter Happier', 'length': '1:57'},\n",
       "     {'title': 'Electioneering', 'length': '3:50'},\n",
       "     {'title': 'Climbing Up the Walls', 'length': '4:45'},\n",
       "     {'title': 'No Surprises', 'length': '3:48'},\n",
       "     {'title': 'Lucky', 'length': '4:19'},\n",
       "     {'title': 'The Tourist', 'length': '5:24'}],\n",
       "    'description': \"\\n\\tOK Computer is the third studio album by the English alternative rock band Radiohead, released on 16 June 1997 on Parlophone in the United Kingdom and 1 July 1997 by Capitol Records in the United States. It marks a deliberate attempt by the band to move away from the introspective guitar-oriented sound of their previous album The Bends. Its layered sound and wide range of influences set it apart from many of the Britpop and alternative rock bands popular at the time and laid the groundwork for Radiohead's later, more experimental work.\\n      \"}]},\n",
       " {'name': 'Portishead',\n",
       "  'albums': [{'title': 'Dummy',\n",
       "    'songs': [{'title': 'Mysterons', 'length': '5:02'},\n",
       "     {'title': 'Sour Times', 'length': '4:11'},\n",
       "     {'title': 'Strangers', 'length': '3:55'},\n",
       "     {'title': 'It Could Be Sweet', 'length': '4:16'},\n",
       "     {'title': 'Wandering Star', 'length': '4:51'},\n",
       "     {'title': \"It's a Fire\", 'length': '3:49'},\n",
       "     {'title': 'Numb', 'length': '3:54'},\n",
       "     {'title': 'Roads', 'length': '5:02'},\n",
       "     {'title': 'Pedestal', 'length': '3:39'},\n",
       "     {'title': 'Biscuit', 'length': '5:01'},\n",
       "     {'title': 'Glory Box', 'length': '5:06'}],\n",
       "    'description': '\\n\\tDummy is the debut album of the Bristol-based group Portishead. Released in August 22, 1994 on Go! Discs, the album earned critical acclaim, winning the 1995 Mercury Music Prize. It is often credited with popularizing the trip-hop genre and is frequently cited in lists of the best albums of the 1990s. Although it achieved modest chart success overseas, it peaked at #2 on the UK Album Chart and saw two of its three singles reach #13. The album was certified gold in 1997 and has sold two million copies in Europe. As of September 2011, the album was certified double-platinum in the United Kingdom and has sold as of September 2011 825,000 copies.\\n      '},\n",
       "   {'title': 'Third',\n",
       "    'songs': [{'title': 'Silence', 'length': '4:58'},\n",
       "     {'title': 'Hunter', 'length': '3:57'},\n",
       "     {'title': 'Nylon Smile', 'length': '3:16'},\n",
       "     {'title': 'The Rip', 'length': '4:29'},\n",
       "     {'title': 'Plastic', 'length': '3:27'},\n",
       "     {'title': 'We Carry On', 'length': '6:27'},\n",
       "     {'title': 'Deep Water', 'length': '1:31'},\n",
       "     {'title': 'Machine Gun', 'length': '4:43'},\n",
       "     {'title': 'Small', 'length': '6:45'},\n",
       "     {'title': 'Magic Doors', 'length': '3:32'},\n",
       "     {'title': 'Threads', 'length': '5:45'}],\n",
       "    'description': \"\\n\\tThird is the third studio album by English musical group Portishead, released on 27 April 2008, on Island Records in the United Kingdom, two days after on Mercury Records in the United States, and on 30 April 2008 on Universal Music Japan in Japan. It is their first release in 10 years, and their first studio album in eleven years. Third entered the UK Album Chart at #2, and became the band's first-ever American Top 10 album on the Billboard 200, reaching #7 in its entry week.\\n      \"}]}]"
      ]
     },
     "execution_count": 23,
     "metadata": {},
     "output_type": "execute_result"
    }
   ],
   "source": [
    "# Vamos recuperar a estrutura de bandas original\n",
    "with open('./data/bands.json') as arquivo_json:\n",
    "    objeto_json = json.load(arquivo_json)\n",
    "\n",
    "objeto_json"
   ]
  },
  {
   "cell_type": "code",
   "execution_count": 25,
   "id": "66a339c3",
   "metadata": {},
   "outputs": [
    {
     "data": {
      "text/html": [
       "<div>\n",
       "<style scoped>\n",
       "    .dataframe tbody tr th:only-of-type {\n",
       "        vertical-align: middle;\n",
       "    }\n",
       "\n",
       "    .dataframe tbody tr th {\n",
       "        vertical-align: top;\n",
       "    }\n",
       "\n",
       "    .dataframe thead th {\n",
       "        text-align: right;\n",
       "    }\n",
       "</style>\n",
       "<table border=\"1\" class=\"dataframe\">\n",
       "  <thead>\n",
       "    <tr style=\"text-align: right;\">\n",
       "      <th></th>\n",
       "      <th>title</th>\n",
       "      <th>length</th>\n",
       "      <th>name</th>\n",
       "      <th>albums.title</th>\n",
       "    </tr>\n",
       "  </thead>\n",
       "  <tbody>\n",
       "    <tr>\n",
       "      <th>0</th>\n",
       "      <td>Bloom</td>\n",
       "      <td>5:15</td>\n",
       "      <td>Radiohead</td>\n",
       "      <td>The King of Limbs</td>\n",
       "    </tr>\n",
       "    <tr>\n",
       "      <th>1</th>\n",
       "      <td>Morning Mr Magpie</td>\n",
       "      <td>4:41</td>\n",
       "      <td>Radiohead</td>\n",
       "      <td>The King of Limbs</td>\n",
       "    </tr>\n",
       "    <tr>\n",
       "      <th>2</th>\n",
       "      <td>Little by Little</td>\n",
       "      <td>4:27</td>\n",
       "      <td>Radiohead</td>\n",
       "      <td>The King of Limbs</td>\n",
       "    </tr>\n",
       "    <tr>\n",
       "      <th>3</th>\n",
       "      <td>Feral</td>\n",
       "      <td>3:13</td>\n",
       "      <td>Radiohead</td>\n",
       "      <td>The King of Limbs</td>\n",
       "    </tr>\n",
       "    <tr>\n",
       "      <th>4</th>\n",
       "      <td>Lotus Flower</td>\n",
       "      <td>5:01</td>\n",
       "      <td>Radiohead</td>\n",
       "      <td>The King of Limbs</td>\n",
       "    </tr>\n",
       "    <tr>\n",
       "      <th>5</th>\n",
       "      <td>Codex</td>\n",
       "      <td>4:47</td>\n",
       "      <td>Radiohead</td>\n",
       "      <td>The King of Limbs</td>\n",
       "    </tr>\n",
       "    <tr>\n",
       "      <th>6</th>\n",
       "      <td>Give Up the Ghost</td>\n",
       "      <td>4:50</td>\n",
       "      <td>Radiohead</td>\n",
       "      <td>The King of Limbs</td>\n",
       "    </tr>\n",
       "    <tr>\n",
       "      <th>7</th>\n",
       "      <td>Separator</td>\n",
       "      <td>5:20</td>\n",
       "      <td>Radiohead</td>\n",
       "      <td>The King of Limbs</td>\n",
       "    </tr>\n",
       "    <tr>\n",
       "      <th>8</th>\n",
       "      <td>Airbag</td>\n",
       "      <td>4:44</td>\n",
       "      <td>Radiohead</td>\n",
       "      <td>OK Computer</td>\n",
       "    </tr>\n",
       "    <tr>\n",
       "      <th>9</th>\n",
       "      <td>Paranoid Android</td>\n",
       "      <td>6:23</td>\n",
       "      <td>Radiohead</td>\n",
       "      <td>OK Computer</td>\n",
       "    </tr>\n",
       "    <tr>\n",
       "      <th>10</th>\n",
       "      <td>Subterranean Homesick Alien</td>\n",
       "      <td>4:27</td>\n",
       "      <td>Radiohead</td>\n",
       "      <td>OK Computer</td>\n",
       "    </tr>\n",
       "    <tr>\n",
       "      <th>11</th>\n",
       "      <td>Exit Music (For a Film)</td>\n",
       "      <td>4:24</td>\n",
       "      <td>Radiohead</td>\n",
       "      <td>OK Computer</td>\n",
       "    </tr>\n",
       "    <tr>\n",
       "      <th>12</th>\n",
       "      <td>Let Down</td>\n",
       "      <td>4:59</td>\n",
       "      <td>Radiohead</td>\n",
       "      <td>OK Computer</td>\n",
       "    </tr>\n",
       "    <tr>\n",
       "      <th>13</th>\n",
       "      <td>Karma Police</td>\n",
       "      <td>4:21</td>\n",
       "      <td>Radiohead</td>\n",
       "      <td>OK Computer</td>\n",
       "    </tr>\n",
       "    <tr>\n",
       "      <th>14</th>\n",
       "      <td>Fitter Happier</td>\n",
       "      <td>1:57</td>\n",
       "      <td>Radiohead</td>\n",
       "      <td>OK Computer</td>\n",
       "    </tr>\n",
       "    <tr>\n",
       "      <th>15</th>\n",
       "      <td>Electioneering</td>\n",
       "      <td>3:50</td>\n",
       "      <td>Radiohead</td>\n",
       "      <td>OK Computer</td>\n",
       "    </tr>\n",
       "    <tr>\n",
       "      <th>16</th>\n",
       "      <td>Climbing Up the Walls</td>\n",
       "      <td>4:45</td>\n",
       "      <td>Radiohead</td>\n",
       "      <td>OK Computer</td>\n",
       "    </tr>\n",
       "    <tr>\n",
       "      <th>17</th>\n",
       "      <td>No Surprises</td>\n",
       "      <td>3:48</td>\n",
       "      <td>Radiohead</td>\n",
       "      <td>OK Computer</td>\n",
       "    </tr>\n",
       "    <tr>\n",
       "      <th>18</th>\n",
       "      <td>Lucky</td>\n",
       "      <td>4:19</td>\n",
       "      <td>Radiohead</td>\n",
       "      <td>OK Computer</td>\n",
       "    </tr>\n",
       "    <tr>\n",
       "      <th>19</th>\n",
       "      <td>The Tourist</td>\n",
       "      <td>5:24</td>\n",
       "      <td>Radiohead</td>\n",
       "      <td>OK Computer</td>\n",
       "    </tr>\n",
       "    <tr>\n",
       "      <th>20</th>\n",
       "      <td>Mysterons</td>\n",
       "      <td>5:02</td>\n",
       "      <td>Portishead</td>\n",
       "      <td>Dummy</td>\n",
       "    </tr>\n",
       "    <tr>\n",
       "      <th>21</th>\n",
       "      <td>Sour Times</td>\n",
       "      <td>4:11</td>\n",
       "      <td>Portishead</td>\n",
       "      <td>Dummy</td>\n",
       "    </tr>\n",
       "    <tr>\n",
       "      <th>22</th>\n",
       "      <td>Strangers</td>\n",
       "      <td>3:55</td>\n",
       "      <td>Portishead</td>\n",
       "      <td>Dummy</td>\n",
       "    </tr>\n",
       "    <tr>\n",
       "      <th>23</th>\n",
       "      <td>It Could Be Sweet</td>\n",
       "      <td>4:16</td>\n",
       "      <td>Portishead</td>\n",
       "      <td>Dummy</td>\n",
       "    </tr>\n",
       "    <tr>\n",
       "      <th>24</th>\n",
       "      <td>Wandering Star</td>\n",
       "      <td>4:51</td>\n",
       "      <td>Portishead</td>\n",
       "      <td>Dummy</td>\n",
       "    </tr>\n",
       "    <tr>\n",
       "      <th>25</th>\n",
       "      <td>It's a Fire</td>\n",
       "      <td>3:49</td>\n",
       "      <td>Portishead</td>\n",
       "      <td>Dummy</td>\n",
       "    </tr>\n",
       "    <tr>\n",
       "      <th>26</th>\n",
       "      <td>Numb</td>\n",
       "      <td>3:54</td>\n",
       "      <td>Portishead</td>\n",
       "      <td>Dummy</td>\n",
       "    </tr>\n",
       "    <tr>\n",
       "      <th>27</th>\n",
       "      <td>Roads</td>\n",
       "      <td>5:02</td>\n",
       "      <td>Portishead</td>\n",
       "      <td>Dummy</td>\n",
       "    </tr>\n",
       "    <tr>\n",
       "      <th>28</th>\n",
       "      <td>Pedestal</td>\n",
       "      <td>3:39</td>\n",
       "      <td>Portishead</td>\n",
       "      <td>Dummy</td>\n",
       "    </tr>\n",
       "    <tr>\n",
       "      <th>29</th>\n",
       "      <td>Biscuit</td>\n",
       "      <td>5:01</td>\n",
       "      <td>Portishead</td>\n",
       "      <td>Dummy</td>\n",
       "    </tr>\n",
       "    <tr>\n",
       "      <th>30</th>\n",
       "      <td>Glory Box</td>\n",
       "      <td>5:06</td>\n",
       "      <td>Portishead</td>\n",
       "      <td>Dummy</td>\n",
       "    </tr>\n",
       "    <tr>\n",
       "      <th>31</th>\n",
       "      <td>Silence</td>\n",
       "      <td>4:58</td>\n",
       "      <td>Portishead</td>\n",
       "      <td>Third</td>\n",
       "    </tr>\n",
       "    <tr>\n",
       "      <th>32</th>\n",
       "      <td>Hunter</td>\n",
       "      <td>3:57</td>\n",
       "      <td>Portishead</td>\n",
       "      <td>Third</td>\n",
       "    </tr>\n",
       "    <tr>\n",
       "      <th>33</th>\n",
       "      <td>Nylon Smile</td>\n",
       "      <td>3:16</td>\n",
       "      <td>Portishead</td>\n",
       "      <td>Third</td>\n",
       "    </tr>\n",
       "    <tr>\n",
       "      <th>34</th>\n",
       "      <td>The Rip</td>\n",
       "      <td>4:29</td>\n",
       "      <td>Portishead</td>\n",
       "      <td>Third</td>\n",
       "    </tr>\n",
       "    <tr>\n",
       "      <th>35</th>\n",
       "      <td>Plastic</td>\n",
       "      <td>3:27</td>\n",
       "      <td>Portishead</td>\n",
       "      <td>Third</td>\n",
       "    </tr>\n",
       "    <tr>\n",
       "      <th>36</th>\n",
       "      <td>We Carry On</td>\n",
       "      <td>6:27</td>\n",
       "      <td>Portishead</td>\n",
       "      <td>Third</td>\n",
       "    </tr>\n",
       "    <tr>\n",
       "      <th>37</th>\n",
       "      <td>Deep Water</td>\n",
       "      <td>1:31</td>\n",
       "      <td>Portishead</td>\n",
       "      <td>Third</td>\n",
       "    </tr>\n",
       "    <tr>\n",
       "      <th>38</th>\n",
       "      <td>Machine Gun</td>\n",
       "      <td>4:43</td>\n",
       "      <td>Portishead</td>\n",
       "      <td>Third</td>\n",
       "    </tr>\n",
       "    <tr>\n",
       "      <th>39</th>\n",
       "      <td>Small</td>\n",
       "      <td>6:45</td>\n",
       "      <td>Portishead</td>\n",
       "      <td>Third</td>\n",
       "    </tr>\n",
       "    <tr>\n",
       "      <th>40</th>\n",
       "      <td>Magic Doors</td>\n",
       "      <td>3:32</td>\n",
       "      <td>Portishead</td>\n",
       "      <td>Third</td>\n",
       "    </tr>\n",
       "    <tr>\n",
       "      <th>41</th>\n",
       "      <td>Threads</td>\n",
       "      <td>5:45</td>\n",
       "      <td>Portishead</td>\n",
       "      <td>Third</td>\n",
       "    </tr>\n",
       "  </tbody>\n",
       "</table>\n",
       "</div>"
      ],
      "text/plain": [
       "                          title length        name       albums.title\n",
       "0                         Bloom   5:15   Radiohead  The King of Limbs\n",
       "1             Morning Mr Magpie   4:41   Radiohead  The King of Limbs\n",
       "2              Little by Little   4:27   Radiohead  The King of Limbs\n",
       "3                         Feral   3:13   Radiohead  The King of Limbs\n",
       "4                  Lotus Flower   5:01   Radiohead  The King of Limbs\n",
       "5                         Codex   4:47   Radiohead  The King of Limbs\n",
       "6             Give Up the Ghost   4:50   Radiohead  The King of Limbs\n",
       "7                     Separator   5:20   Radiohead  The King of Limbs\n",
       "8                        Airbag   4:44   Radiohead        OK Computer\n",
       "9              Paranoid Android   6:23   Radiohead        OK Computer\n",
       "10  Subterranean Homesick Alien   4:27   Radiohead        OK Computer\n",
       "11      Exit Music (For a Film)   4:24   Radiohead        OK Computer\n",
       "12                     Let Down   4:59   Radiohead        OK Computer\n",
       "13                 Karma Police   4:21   Radiohead        OK Computer\n",
       "14               Fitter Happier   1:57   Radiohead        OK Computer\n",
       "15               Electioneering   3:50   Radiohead        OK Computer\n",
       "16        Climbing Up the Walls   4:45   Radiohead        OK Computer\n",
       "17                 No Surprises   3:48   Radiohead        OK Computer\n",
       "18                        Lucky   4:19   Radiohead        OK Computer\n",
       "19                  The Tourist   5:24   Radiohead        OK Computer\n",
       "20                    Mysterons   5:02  Portishead              Dummy\n",
       "21                   Sour Times   4:11  Portishead              Dummy\n",
       "22                    Strangers   3:55  Portishead              Dummy\n",
       "23            It Could Be Sweet   4:16  Portishead              Dummy\n",
       "24               Wandering Star   4:51  Portishead              Dummy\n",
       "25                  It's a Fire   3:49  Portishead              Dummy\n",
       "26                         Numb   3:54  Portishead              Dummy\n",
       "27                        Roads   5:02  Portishead              Dummy\n",
       "28                     Pedestal   3:39  Portishead              Dummy\n",
       "29                      Biscuit   5:01  Portishead              Dummy\n",
       "30                    Glory Box   5:06  Portishead              Dummy\n",
       "31                      Silence   4:58  Portishead              Third\n",
       "32                       Hunter   3:57  Portishead              Third\n",
       "33                  Nylon Smile   3:16  Portishead              Third\n",
       "34                      The Rip   4:29  Portishead              Third\n",
       "35                      Plastic   3:27  Portishead              Third\n",
       "36                  We Carry On   6:27  Portishead              Third\n",
       "37                   Deep Water   1:31  Portishead              Third\n",
       "38                  Machine Gun   4:43  Portishead              Third\n",
       "39                        Small   6:45  Portishead              Third\n",
       "40                  Magic Doors   3:32  Portishead              Third\n",
       "41                      Threads   5:45  Portishead              Third"
      ]
     },
     "execution_count": 25,
     "metadata": {},
     "output_type": "execute_result"
    }
   ],
   "source": [
    "df = pd.json_normalize(objeto_json, record_path=['albums', 'songs'], meta=['name', ['albums', 'title']])\n",
    "\n",
    "df"
   ]
  },
  {
   "cell_type": "code",
   "execution_count": null,
   "id": "f366b886",
   "metadata": {},
   "outputs": [],
   "source": []
  },
  {
   "cell_type": "code",
   "execution_count": null,
   "id": "706297dc",
   "metadata": {},
   "outputs": [],
   "source": []
  }
 ],
 "metadata": {
  "kernelspec": {
   "display_name": "Python 3 (ipykernel)",
   "language": "python",
   "name": "python3"
  },
  "language_info": {
   "codemirror_mode": {
    "name": "ipython",
    "version": 3
   },
   "file_extension": ".py",
   "mimetype": "text/x-python",
   "name": "python",
   "nbconvert_exporter": "python",
   "pygments_lexer": "ipython3",
   "version": "3.9.13"
  }
 },
 "nbformat": 4,
 "nbformat_minor": 5
}
