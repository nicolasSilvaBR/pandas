{
 "cells": [
  {
   "cell_type": "markdown",
   "id": "f19d0ba5",
   "metadata": {},
   "source": [
    "## Séries Pandas"
   ]
  },
  {
   "cell_type": "markdown",
   "id": "49eb79d4",
   "metadata": {},
   "source": [
    "### Lista:"
   ]
  },
  {
   "cell_type": "code",
   "execution_count": 5,
   "id": "28dbdc2d",
   "metadata": {},
   "outputs": [
    {
     "data": {
      "text/plain": [
       "[1, 2, 3, 4, 5]"
      ]
     },
     "execution_count": 5,
     "metadata": {},
     "output_type": "execute_result"
    }
   ],
   "source": [
    "x = [1,2,3,4,5]\n",
    "x"
   ]
  },
  {
   "cell_type": "code",
   "execution_count": 2,
   "id": "2cfbf77d-145a-4780-9a91-317858a7c026",
   "metadata": {},
   "outputs": [
    {
     "data": {
      "text/plain": [
       "1"
      ]
     },
     "execution_count": 2,
     "metadata": {},
     "output_type": "execute_result"
    }
   ],
   "source": [
    "x[0]"
   ]
  },
  {
   "cell_type": "markdown",
   "id": "b9dc8a74",
   "metadata": {},
   "source": [
    "### Série pandas:"
   ]
  },
  {
   "cell_type": "code",
   "execution_count": 10,
   "id": "ecbe6b3f-e19d-4878-b330-a4558c692af8",
   "metadata": {},
   "outputs": [],
   "source": [
    "import pandas as pd"
   ]
  },
  {
   "cell_type": "code",
   "execution_count": 12,
   "id": "6f26b0e7",
   "metadata": {},
   "outputs": [
    {
     "data": {
      "text/plain": [
       "0    1\n",
       "1    2\n",
       "2    3\n",
       "3    4\n",
       "4    5\n",
       "dtype: int64"
      ]
     },
     "execution_count": 12,
     "metadata": {},
     "output_type": "execute_result"
    }
   ],
   "source": [
    "y = pd.Series([1,2,3,4,5])\n",
    "\n",
    "y"
   ]
  },
  {
   "cell_type": "code",
   "execution_count": 14,
   "id": "ec82fe9e-023e-4d7d-9792-e1147649075f",
   "metadata": {},
   "outputs": [
    {
     "data": {
      "text/plain": [
       "0    1\n",
       "1    2\n",
       "2    3\n",
       "3    4\n",
       "4    5\n",
       "dtype: int64"
      ]
     },
     "execution_count": 14,
     "metadata": {},
     "output_type": "execute_result"
    }
   ],
   "source": [
    "y = pd.Series((1,2,3,4,5))\n",
    "\n",
    "y"
   ]
  },
  {
   "cell_type": "markdown",
   "id": "11915e9b",
   "metadata": {},
   "source": [
    "### Primeiras séries:"
   ]
  },
  {
   "cell_type": "code",
   "execution_count": 19,
   "id": "e043c2ff",
   "metadata": {},
   "outputs": [
    {
     "data": {
      "text/plain": [
       "0    Let's\n",
       "1     Data\n",
       "2        4\n",
       "3       tw\n",
       "dtype: object"
      ]
     },
     "metadata": {},
     "output_type": "display_data"
    },
    {
     "data": {
      "text/plain": [
       "0    Let's\n",
       "1     Data\n",
       "2        4\n",
       "3       tw\n",
       "dtype: object"
      ]
     },
     "metadata": {},
     "output_type": "display_data"
    }
   ],
   "source": [
    "s1 = pd.Series([\"Let's\", \"Data\", 4, \"tw\"])\n",
    "s2 = pd.Series(data=[\"Let's\", \"Data\", 4, \"tw\"])\n",
    "\n",
    "display(s1)\n",
    "display(s2)"
   ]
  },
  {
   "cell_type": "markdown",
   "id": "d4523da5",
   "metadata": {},
   "source": [
    "### Índices:"
   ]
  },
  {
   "cell_type": "code",
   "execution_count": 21,
   "id": "7df65dcc",
   "metadata": {},
   "outputs": [
    {
     "data": {
      "text/plain": [
       "0    100\n",
       "1    200\n",
       "2    300\n",
       "dtype: int64"
      ]
     },
     "execution_count": 21,
     "metadata": {},
     "output_type": "execute_result"
    }
   ],
   "source": [
    "valores_lista = [100, 200, 300]\n",
    "\n",
    "# Criar índice automático (ordenado como inteiro, mas nem sempre precisa ser assim)\n",
    "pd.Series(data=valores_lista)"
   ]
  },
  {
   "cell_type": "markdown",
   "id": "4465f2f5",
   "metadata": {},
   "source": [
    "### Passando novos índices:"
   ]
  },
  {
   "cell_type": "code",
   "execution_count": 27,
   "id": "ea6b48d7",
   "metadata": {},
   "outputs": [
    {
     "data": {
      "text/plain": [
       "indice1    100\n",
       "indice2    200\n",
       "indice3    300\n",
       "dtype: int64"
      ]
     },
     "execution_count": 27,
     "metadata": {},
     "output_type": "execute_result"
    }
   ],
   "source": [
    "valores_lista = [100, 200, 300]\n",
    "valores_indices = [\"indice1\", \"indice2\", \"indice3\"]\n",
    "\n",
    "# Passando valores (data) e índices (index)\n",
    "pd.Series(data=valores_lista, index=valores_indices)"
   ]
  },
  {
   "cell_type": "markdown",
   "id": "be934650",
   "metadata": {},
   "source": [
    "### Índices pode ser numérico MAS QUE NÃO PRECISA SER POSICIONAL!! O.o"
   ]
  },
  {
   "cell_type": "code",
   "execution_count": 31,
   "id": "7c7e96e7-1959-4719-81ac-f9236e5d04a7",
   "metadata": {},
   "outputs": [
    {
     "data": {
      "text/plain": [
       "'A'"
      ]
     },
     "execution_count": 31,
     "metadata": {},
     "output_type": "execute_result"
    }
   ],
   "source": [
    "lista = [\"A\", \"B\", \"C\", \"D\"]\n",
    "\n",
    "# Nesse caso, 0 é POSICIONAL, porque é uma lista python normal\n",
    "lista[0]"
   ]
  },
  {
   "cell_type": "code",
   "execution_count": 29,
   "id": "6aa99093-03b2-4614-a2ec-f1658a3ef810",
   "metadata": {},
   "outputs": [
    {
     "name": "stdout",
     "output_type": "stream",
     "text": [
      "1        A\n",
      "4        B\n",
      "12341    C\n",
      "0        D\n",
      "dtype: object\n"
     ]
    }
   ],
   "source": [
    "s = pd.Series(data=lista, index=[1, 4, 12341, 0])\n",
    "print(s)"
   ]
  },
  {
   "cell_type": "code",
   "execution_count": 38,
   "id": "34e0dee7-2ac5-4305-a1b0-72a6f75ca06d",
   "metadata": {},
   "outputs": [
    {
     "data": {
      "text/plain": [
       "'D'"
      ]
     },
     "execution_count": 38,
     "metadata": {},
     "output_type": "execute_result"
    }
   ],
   "source": [
    "# Nesse caso NAO É POSICIONAL, pois os índices não precisam ser posicionais\n",
    "s[0]"
   ]
  },
  {
   "cell_type": "markdown",
   "id": "b0121711",
   "metadata": {},
   "source": [
    "### Índices não precisam ser únicos:"
   ]
  },
  {
   "cell_type": "code",
   "execution_count": 39,
   "id": "2c9d375d-d76e-4978-864e-56a573a8a4dd",
   "metadata": {},
   "outputs": [
    {
     "data": {
      "text/plain": [
       "1    Let's\n",
       "1     Data\n",
       "0        4\n",
       "0       tw\n",
       "dtype: object"
      ]
     },
     "execution_count": 39,
     "metadata": {},
     "output_type": "execute_result"
    }
   ],
   "source": [
    "# data = valores, index = indices\n",
    "s1 = pd.Series(data=[\"Let's\", \"Data\", 4, \"tw\"], index=[1, 1, 0, 0])\n",
    "\n",
    "s1"
   ]
  },
  {
   "cell_type": "code",
   "execution_count": 40,
   "id": "055648b7-335d-4f19-8ac7-2e7a0d0821a1",
   "metadata": {},
   "outputs": [
    {
     "data": {
      "text/plain": [
       "0     4\n",
       "0    tw\n",
       "dtype: object"
      ]
     },
     "execution_count": 40,
     "metadata": {},
     "output_type": "execute_result"
    }
   ],
   "source": [
    "s1[0]"
   ]
  },
  {
   "cell_type": "code",
   "execution_count": 41,
   "id": "6f3e2b5c-bbeb-4d97-8f6b-e3d0a9bb209d",
   "metadata": {},
   "outputs": [
    {
     "data": {
      "text/plain": [
       "1    Let's\n",
       "1     Data\n",
       "dtype: object"
      ]
     },
     "execution_count": 41,
     "metadata": {},
     "output_type": "execute_result"
    }
   ],
   "source": [
    "s1[1]"
   ]
  },
  {
   "cell_type": "markdown",
   "id": "bad87dbc",
   "metadata": {},
   "source": [
    "### Tipos:"
   ]
  },
  {
   "cell_type": "code",
   "execution_count": 44,
   "id": "a9de2173-fd2c-45a7-919b-404cda88e631",
   "metadata": {},
   "outputs": [
    {
     "data": {
      "text/plain": [
       "dtype('O')"
      ]
     },
     "execution_count": 44,
     "metadata": {},
     "output_type": "execute_result"
    }
   ],
   "source": [
    "s1 = pd.Series([\"Let's\", \"Data\", 4, \"tw\"])\n",
    "\n",
    "s1.dtype"
   ]
  },
  {
   "cell_type": "code",
   "execution_count": 45,
   "id": "48dce8ae-1f79-4480-9a3e-ff6e928dc1dc",
   "metadata": {},
   "outputs": [
    {
     "data": {
      "text/plain": [
       "dtype('int64')"
      ]
     },
     "execution_count": 45,
     "metadata": {},
     "output_type": "execute_result"
    }
   ],
   "source": [
    "s2 = pd.Series([1, 2, 3, 4])\n",
    "\n",
    "s2.dtype"
   ]
  },
  {
   "cell_type": "code",
   "execution_count": 46,
   "id": "c01a3fd3-6427-4d21-9230-3dbdaed7593c",
   "metadata": {},
   "outputs": [
    {
     "data": {
      "text/plain": [
       "dtype('float64')"
      ]
     },
     "execution_count": 46,
     "metadata": {},
     "output_type": "execute_result"
    }
   ],
   "source": [
    "s3 = pd.Series([1., 2., 3., 4.])\n",
    "\n",
    "s3.dtype"
   ]
  },
  {
   "cell_type": "code",
   "execution_count": 47,
   "id": "dc6e77c0-b6c1-4610-8cef-09b0861f4612",
   "metadata": {},
   "outputs": [
    {
     "data": {
      "text/plain": [
       "dtype('float64')"
      ]
     },
     "execution_count": 47,
     "metadata": {},
     "output_type": "execute_result"
    }
   ],
   "source": [
    "s3 = pd.Series([1, 2, 3., 4])\n",
    "\n",
    "s3.dtype"
   ]
  },
  {
   "cell_type": "code",
   "execution_count": 52,
   "id": "7458781a-e306-4e9f-a002-38462bfc1093",
   "metadata": {},
   "outputs": [
    {
     "data": {
      "text/plain": [
       "dtype('int32')"
      ]
     },
     "execution_count": 52,
     "metadata": {},
     "output_type": "execute_result"
    }
   ],
   "source": [
    "s3 = pd.Series([1., 2, 3., 4.], dtype=int)\n",
    "\n",
    "s3.dtype"
   ]
  },
  {
   "cell_type": "markdown",
   "id": "991c9519",
   "metadata": {},
   "source": [
    "### Conversão de tipos:"
   ]
  },
  {
   "cell_type": "code",
   "execution_count": 53,
   "id": "cc40578c-5f87-48d6-9041-dfa653c0bf21",
   "metadata": {},
   "outputs": [
    {
     "data": {
      "text/plain": [
       "dtype('int64')"
      ]
     },
     "execution_count": 53,
     "metadata": {},
     "output_type": "execute_result"
    }
   ],
   "source": [
    "s2 = pd.Series([1, 2, 3])\n",
    "\n",
    "s2.dtype"
   ]
  },
  {
   "cell_type": "code",
   "execution_count": 54,
   "id": "3ff2a8d7-0b16-447f-8972-867d0ce3c9f8",
   "metadata": {},
   "outputs": [
    {
     "data": {
      "text/plain": [
       "dtype('float64')"
      ]
     },
     "execution_count": 54,
     "metadata": {},
     "output_type": "execute_result"
    }
   ],
   "source": [
    "s2 = s2.astype(float)\n",
    "\n",
    "s2.dtype"
   ]
  },
  {
   "cell_type": "markdown",
   "id": "3951bd54",
   "metadata": {},
   "source": [
    "### Nome:"
   ]
  },
  {
   "cell_type": "code",
   "execution_count": 57,
   "id": "f2cc05d4",
   "metadata": {},
   "outputs": [
    {
     "data": {
      "text/plain": [
       "0    Let's\n",
       "1     Data\n",
       "2      4tw\n",
       "Name: Cola na Xperiun e No Let's Data!, dtype: object"
      ]
     },
     "execution_count": 57,
     "metadata": {},
     "output_type": "execute_result"
    }
   ],
   "source": [
    "s1 = pd.Series([\"Let's\", \"Data\", \"4tw\"], name=\"Cola na Xperiun e No Let's Data!\")\n",
    "\n",
    "s1"
   ]
  },
  {
   "cell_type": "markdown",
   "id": "0c05661d",
   "metadata": {},
   "source": [
    "### Acesso aos valores, índices, nome e tipos:"
   ]
  },
  {
   "cell_type": "code",
   "execution_count": 63,
   "id": "af217642-2e43-46a8-afbf-3d81735b8a30",
   "metadata": {},
   "outputs": [],
   "source": [
    "s1 = pd.Series(data=[1,2,3,4], \n",
    "          name=\"primeira serie pandas\", \n",
    "          index=[\"um\", \"dois\", \"três\", \"quatro\"],\n",
    "              dtype=float)"
   ]
  },
  {
   "cell_type": "code",
   "execution_count": 64,
   "id": "e286a7ac-7785-4a3c-b462-cc6225e9093d",
   "metadata": {},
   "outputs": [
    {
     "data": {
      "text/plain": [
       "array([1., 2., 3., 4.])"
      ]
     },
     "execution_count": 64,
     "metadata": {},
     "output_type": "execute_result"
    }
   ],
   "source": [
    "s1.values"
   ]
  },
  {
   "cell_type": "code",
   "execution_count": 65,
   "id": "7b7a780f-de14-4246-95e5-3cc24359526f",
   "metadata": {},
   "outputs": [
    {
     "data": {
      "text/plain": [
       "Index(['um', 'dois', 'três', 'quatro'], dtype='object')"
      ]
     },
     "execution_count": 65,
     "metadata": {},
     "output_type": "execute_result"
    }
   ],
   "source": [
    "s1.index"
   ]
  },
  {
   "cell_type": "code",
   "execution_count": 66,
   "id": "b4da92a3-d0da-4ea3-a012-45090974ca67",
   "metadata": {},
   "outputs": [
    {
     "data": {
      "text/plain": [
       "dtype('float64')"
      ]
     },
     "execution_count": 66,
     "metadata": {},
     "output_type": "execute_result"
    }
   ],
   "source": [
    "s1.dtype"
   ]
  },
  {
   "cell_type": "code",
   "execution_count": 67,
   "id": "f838fc83-a010-4004-86d3-4bbc6132452b",
   "metadata": {},
   "outputs": [
    {
     "data": {
      "text/plain": [
       "'primeira serie pandas'"
      ]
     },
     "execution_count": 67,
     "metadata": {},
     "output_type": "execute_result"
    }
   ],
   "source": [
    "s1.name"
   ]
  },
  {
   "cell_type": "code",
   "execution_count": null,
   "id": "cb26cab8-868f-4123-b3c5-55055b0a4f67",
   "metadata": {},
   "outputs": [],
   "source": []
  }
 ],
 "metadata": {
  "kernelspec": {
   "display_name": "pandas_kernel",
   "language": "python",
   "name": "pandas_kernel"
  },
  "language_info": {
   "codemirror_mode": {
    "name": "ipython",
    "version": 3
   },
   "file_extension": ".py",
   "mimetype": "text/x-python",
   "name": "python",
   "nbconvert_exporter": "python",
   "pygments_lexer": "ipython3",
   "version": "3.12.5"
  }
 },
 "nbformat": 4,
 "nbformat_minor": 5
}
