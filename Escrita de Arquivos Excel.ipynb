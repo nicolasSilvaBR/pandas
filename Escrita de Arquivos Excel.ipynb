{
 "cells": [
  {
   "cell_type": "markdown",
   "id": "e0143e43",
   "metadata": {},
   "source": [
    "# Aula Prática: Escrita de Arquivos Excel com Pandas"
   ]
  },
  {
   "cell_type": "code",
   "execution_count": null,
   "id": "ac724279",
   "metadata": {},
   "outputs": [],
   "source": [
    "# Instalar o pacote necessário\n",
    "#!pip install pandas openpyxl"
   ]
  },
  {
   "cell_type": "code",
   "execution_count": 1,
   "id": "da8116d9-d705-427d-ba5d-23c9fba0482b",
   "metadata": {},
   "outputs": [
    {
     "data": {
      "text/html": [
       "<div>\n",
       "<style scoped>\n",
       "    .dataframe tbody tr th:only-of-type {\n",
       "        vertical-align: middle;\n",
       "    }\n",
       "\n",
       "    .dataframe tbody tr th {\n",
       "        vertical-align: top;\n",
       "    }\n",
       "\n",
       "    .dataframe thead th {\n",
       "        text-align: right;\n",
       "    }\n",
       "</style>\n",
       "<table border=\"1\" class=\"dataframe\">\n",
       "  <thead>\n",
       "    <tr style=\"text-align: right;\">\n",
       "      <th></th>\n",
       "      <th>Nome</th>\n",
       "      <th>Idade</th>\n",
       "      <th>Saldo</th>\n",
       "    </tr>\n",
       "  </thead>\n",
       "  <tbody>\n",
       "    <tr>\n",
       "      <th>0</th>\n",
       "      <td>Fernanda Pereira</td>\n",
       "      <td>54</td>\n",
       "      <td>3182.61</td>\n",
       "    </tr>\n",
       "    <tr>\n",
       "      <th>1</th>\n",
       "      <td>João Almeida</td>\n",
       "      <td>37</td>\n",
       "      <td>4697.22</td>\n",
       "    </tr>\n",
       "    <tr>\n",
       "      <th>2</th>\n",
       "      <td>Carlos Silva</td>\n",
       "      <td>51</td>\n",
       "      <td>3554.69</td>\n",
       "    </tr>\n",
       "    <tr>\n",
       "      <th>3</th>\n",
       "      <td>Leon Sólon</td>\n",
       "      <td>43</td>\n",
       "      <td>-1872.05</td>\n",
       "    </tr>\n",
       "  </tbody>\n",
       "</table>\n",
       "</div>"
      ],
      "text/plain": [
       "               Nome  Idade    Saldo\n",
       "0  Fernanda Pereira     54  3182.61\n",
       "1      João Almeida     37  4697.22\n",
       "2      Carlos Silva     51  3554.69\n",
       "3        Leon Sólon     43 -1872.05"
      ]
     },
     "execution_count": 1,
     "metadata": {},
     "output_type": "execute_result"
    }
   ],
   "source": [
    "import pandas as pd\n",
    "\n",
    "# Suponha que temos dois DataFrames, df1 e df2\n",
    "df1 = pd.DataFrame({\n",
    "    'Nome': ['Fernanda Pereira', 'João Almeida', 'Carlos Silva', 'Leon Sólon'],\n",
    "    'Idade': [54, 37, 51, 43],\n",
    "    'Saldo': [3182.61, 4697.22, 3554.69, -1872.05]\n",
    "})\n",
    "\n",
    "df1"
   ]
  },
  {
   "cell_type": "code",
   "execution_count": 2,
   "id": "396180ac-7000-4cff-a9bd-233697392d98",
   "metadata": {},
   "outputs": [
    {
     "data": {
      "text/html": [
       "<div>\n",
       "<style scoped>\n",
       "    .dataframe tbody tr th:only-of-type {\n",
       "        vertical-align: middle;\n",
       "    }\n",
       "\n",
       "    .dataframe tbody tr th {\n",
       "        vertical-align: top;\n",
       "    }\n",
       "\n",
       "    .dataframe thead th {\n",
       "        text-align: right;\n",
       "    }\n",
       "</style>\n",
       "<table border=\"1\" class=\"dataframe\">\n",
       "  <thead>\n",
       "    <tr style=\"text-align: right;\">\n",
       "      <th></th>\n",
       "      <th>Produto</th>\n",
       "      <th>Preço</th>\n",
       "    </tr>\n",
       "  </thead>\n",
       "  <tbody>\n",
       "    <tr>\n",
       "      <th>0</th>\n",
       "      <td>sapato</td>\n",
       "      <td>327.9</td>\n",
       "    </tr>\n",
       "    <tr>\n",
       "      <th>1</th>\n",
       "      <td>sandália</td>\n",
       "      <td>129.9</td>\n",
       "    </tr>\n",
       "    <tr>\n",
       "      <th>2</th>\n",
       "      <td>tênis</td>\n",
       "      <td>259.9</td>\n",
       "    </tr>\n",
       "  </tbody>\n",
       "</table>\n",
       "</div>"
      ],
      "text/plain": [
       "    Produto  Preço\n",
       "0    sapato  327.9\n",
       "1  sandália  129.9\n",
       "2     tênis  259.9"
      ]
     },
     "execution_count": 2,
     "metadata": {},
     "output_type": "execute_result"
    }
   ],
   "source": [
    "df2 = pd.DataFrame({\n",
    "    'Produto': ['sapato', 'sandália', 'tênis'],\n",
    "    'Preço': [327.90, 129.90, 259.90]\n",
    "})\n",
    "\n",
    "df2"
   ]
  },
  {
   "cell_type": "code",
   "execution_count": 3,
   "id": "c8692df6-98a1-495f-ac58-f81e35fc1194",
   "metadata": {},
   "outputs": [],
   "source": [
    "# Escrevendo um único DataFrame em um arquivo Excel\n",
    "df1.to_excel('./data/novo_arquivo_com_indice.xlsx', sheet_name='Planilha 1')"
   ]
  },
  {
   "cell_type": "code",
   "execution_count": 4,
   "id": "c2f08efc-e60a-427c-bbd4-d0fbc4e6b210",
   "metadata": {},
   "outputs": [],
   "source": [
    "# Escrevendo um único DataFrame em um arquivo Excel, sem incluir o índice\n",
    "df1.to_excel('./data/novo_arquivo.xlsx', sheet_name='Planilha 1', index=False)"
   ]
  },
  {
   "cell_type": "code",
   "execution_count": 5,
   "id": "2fc55835-96d5-4916-b796-1fcf96c54ec6",
   "metadata": {},
   "outputs": [],
   "source": [
    "# Escrevendo um único DataFrame em um arquivo Excel, sem incluir o índice\n",
    "# Com nome de planilha diferente\n",
    "df1.to_excel('./data/novo_arquivo_com_nome_planilha.xlsx', sheet_name='Clientes', index=False)"
   ]
  },
  {
   "cell_type": "code",
   "execution_count": 6,
   "id": "1751d6dd-3dd2-428b-b271-61b6d8c0adf3",
   "metadata": {},
   "outputs": [],
   "source": [
    "# Usando ExcelWriter para escrever múltiplos DataFrames em um único arquivo Excel\n",
    "with pd.ExcelWriter('./data/novo_com_duas_planilhas.xlsx') as writer:\n",
    "    # Escrevendo o primeiro DataFrame em uma aba com formatação extra\n",
    "    df1.to_excel(\n",
    "        writer,\n",
    "        sheet_name='Clientes',\n",
    "        index=False,\n",
    "    )\n",
    "    \n",
    "    # Escrevendo o segundo DataFrame em outra aba, incluindo o índice e sem cabeçalho\n",
    "    df2.to_excel(\n",
    "        writer,\n",
    "        sheet_name='Produtos',\n",
    "        index=False\n",
    "    )"
   ]
  },
  {
   "cell_type": "code",
   "execution_count": 7,
   "id": "afc0d08a",
   "metadata": {},
   "outputs": [
    {
     "data": {
      "text/html": [
       "<div>\n",
       "<style scoped>\n",
       "    .dataframe tbody tr th:only-of-type {\n",
       "        vertical-align: middle;\n",
       "    }\n",
       "\n",
       "    .dataframe tbody tr th {\n",
       "        vertical-align: top;\n",
       "    }\n",
       "\n",
       "    .dataframe thead th {\n",
       "        text-align: right;\n",
       "    }\n",
       "</style>\n",
       "<table border=\"1\" class=\"dataframe\">\n",
       "  <thead>\n",
       "    <tr style=\"text-align: right;\">\n",
       "      <th></th>\n",
       "      <th>sepal_length</th>\n",
       "      <th>sepal_width</th>\n",
       "      <th>petal_length</th>\n",
       "      <th>petal_width</th>\n",
       "      <th>class</th>\n",
       "    </tr>\n",
       "  </thead>\n",
       "  <tbody>\n",
       "    <tr>\n",
       "      <th>0</th>\n",
       "      <td>5.1</td>\n",
       "      <td>3.5</td>\n",
       "      <td>1.4</td>\n",
       "      <td>0.2</td>\n",
       "      <td>Iris-setosa</td>\n",
       "    </tr>\n",
       "    <tr>\n",
       "      <th>1</th>\n",
       "      <td>4.9</td>\n",
       "      <td>3.0</td>\n",
       "      <td>1.4</td>\n",
       "      <td>0.2</td>\n",
       "      <td>Iris-setosa</td>\n",
       "    </tr>\n",
       "    <tr>\n",
       "      <th>2</th>\n",
       "      <td>4.7</td>\n",
       "      <td>3.2</td>\n",
       "      <td>1.3</td>\n",
       "      <td>0.2</td>\n",
       "      <td>Iris-setosa</td>\n",
       "    </tr>\n",
       "    <tr>\n",
       "      <th>3</th>\n",
       "      <td>4.6</td>\n",
       "      <td>3.1</td>\n",
       "      <td>1.5</td>\n",
       "      <td>0.2</td>\n",
       "      <td>Iris-setosa</td>\n",
       "    </tr>\n",
       "    <tr>\n",
       "      <th>4</th>\n",
       "      <td>5.0</td>\n",
       "      <td>3.6</td>\n",
       "      <td>1.4</td>\n",
       "      <td>0.2</td>\n",
       "      <td>Iris-setosa</td>\n",
       "    </tr>\n",
       "  </tbody>\n",
       "</table>\n",
       "</div>"
      ],
      "text/plain": [
       "   sepal_length  sepal_width  petal_length  petal_width        class\n",
       "0           5.1          3.5           1.4          0.2  Iris-setosa\n",
       "1           4.9          3.0           1.4          0.2  Iris-setosa\n",
       "2           4.7          3.2           1.3          0.2  Iris-setosa\n",
       "3           4.6          3.1           1.5          0.2  Iris-setosa\n",
       "4           5.0          3.6           1.4          0.2  Iris-setosa"
      ]
     },
     "execution_count": 7,
     "metadata": {},
     "output_type": "execute_result"
    }
   ],
   "source": [
    "# Carregar o dataset Iris\n",
    "iris_data = pd.read_csv('https://archive.ics.uci.edu/ml/machine-learning-databases/iris/iris.data', header=None, names=['sepal_length', 'sepal_width', 'petal_length', 'petal_width', 'class'])\n",
    "iris_data.head()"
   ]
  },
  {
   "cell_type": "code",
   "execution_count": 8,
   "id": "a426ae8d-55e9-452f-8a86-376ef31d248c",
   "metadata": {},
   "outputs": [
    {
     "data": {
      "text/plain": [
       "array(['Iris-setosa', 'Iris-versicolor', 'Iris-virginica'], dtype=object)"
      ]
     },
     "execution_count": 8,
     "metadata": {},
     "output_type": "execute_result"
    }
   ],
   "source": [
    "iris_data['class'].unique()"
   ]
  },
  {
   "cell_type": "code",
   "execution_count": 9,
   "id": "72628007",
   "metadata": {},
   "outputs": [],
   "source": [
    "# Escrever diferentes partes do DataFrame em diferentes abas\n",
    "with pd.ExcelWriter('./data/iris.xlsx') as writer:\n",
    "    iris_data.loc[iris_data['class'] == 'Iris-setosa'].to_excel(writer, sheet_name='Setosa', index=False)\n",
    "    iris_data.loc[iris_data['class'] == 'Iris-versicolor'].to_excel(writer, sheet_name='Versicolor', index=False)\n",
    "    iris_data.loc[iris_data['class'] == 'Iris-virginica'].to_excel(writer, sheet_name='Virginica', index=False)"
   ]
  },
  {
   "cell_type": "code",
   "execution_count": null,
   "id": "c51d8f72-70e6-461e-b23b-f249b22f1cee",
   "metadata": {},
   "outputs": [],
   "source": []
  }
 ],
 "metadata": {
  "kernelspec": {
   "display_name": "Python 3 (ipykernel)",
   "language": "python",
   "name": "python3"
  },
  "language_info": {
   "codemirror_mode": {
    "name": "ipython",
    "version": 3
   },
   "file_extension": ".py",
   "mimetype": "text/x-python",
   "name": "python",
   "nbconvert_exporter": "python",
   "pygments_lexer": "ipython3",
   "version": "3.9.13"
  }
 },
 "nbformat": 4,
 "nbformat_minor": 5
}
